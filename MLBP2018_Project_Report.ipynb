{
  "nbformat": 4,
  "nbformat_minor": 0,
  "metadata": {
    "colab": {
      "name": "MLBP2018 Project Report.ipynb",
      "version": "0.3.2",
      "provenance": [],
      "toc_visible": true,
      "include_colab_link": true
    },
    "kernelspec": {
      "display_name": "Python 3",
      "language": "python",
      "name": "python3"
    }
  },
  "cells": [
    {
      "cell_type": "markdown",
      "metadata": {
        "id": "view-in-github",
        "colab_type": "text"
      },
      "source": [
        "[![Open In Colab](https://colab.research.google.com/assets/colab-badge.svg)](https://colab.research.google.com/github/ipgromov/machine_learning_project_attachments/blob/master/MLBP2018_Project_Report.ipynb)"
      ]
    },
    {
      "metadata": {
        "id": "9CNOe42mig45",
        "colab_type": "text"
      },
      "cell_type": "markdown",
      "source": [
        "**Machine Learning Basic Principles 2018 - Data Analysis Project Report**"
      ]
    },
    {
      "metadata": {
        "id": "zVWFi8kJig4_",
        "colab_type": "text"
      },
      "cell_type": "markdown",
      "source": [
        "*All the text in italics is instructions for filling the template - remove when writing the project report!*"
      ]
    },
    {
      "metadata": {
        "id": "IOZQLhb-ig5D",
        "colab_type": "text"
      },
      "cell_type": "markdown",
      "source": [
        "# *Title* "
      ]
    },
    {
      "metadata": {
        "id": "kyCoA-zUig5J",
        "colab_type": "text"
      },
      "cell_type": "markdown",
      "source": [
        "*Title should be concise and informative, describes the approach to solve the problem. Some good titles from previous years:*\n",
        "\n",
        "*- Comparing extreme learning machines and naive bayes’ classifier in spam detection*\n",
        "\n",
        "*- Using linear discriminant analysis in spam detection*\n",
        "\n",
        "*Some not-so-good titles:*\n",
        "\n",
        "*- Bayesian spam filtering with extras*\n",
        "\n",
        "*- Two-component classifier for spam detection*\n",
        "\n",
        "*- CS-E3210 Term Project, final report*\n",
        "\n",
        "\n"
      ]
    },
    {
      "metadata": {
        "id": "EAiiHNk0ig5N",
        "colab_type": "text"
      },
      "cell_type": "markdown",
      "source": [
        "## Abstract"
      ]
    },
    {
      "metadata": {
        "id": "Ps9l3axhig5R",
        "colab_type": "text"
      },
      "cell_type": "markdown",
      "source": [
        "*Precise summary of the whole report, previews the contents and results. Must be a single paragraph between 100 and 200 words.*\n",
        "\n"
      ]
    },
    {
      "metadata": {
        "id": "GA0zdBEgig5W",
        "colab_type": "text"
      },
      "cell_type": "markdown",
      "source": [
        "## 1. Introduction"
      ]
    },
    {
      "metadata": {
        "id": "qykz8wAsig5d",
        "colab_type": "text"
      },
      "cell_type": "markdown",
      "source": [
        "*Background, problem statement, motivation, many references, description of\n",
        "contents. Introduces the reader to the topic and the broad context within which your\n",
        "research/project fits*\n",
        "\n",
        "*- What do you hope to learn from the project?*\n",
        "*- What question is being addressed?*\n",
        "*- Why is this task important? (motivation)*\n",
        "\n",
        "*Keep it short (half to 1 page).*\n",
        "\n"
      ]
    },
    {
      "metadata": {
        "id": "so5wByo_ig5j",
        "colab_type": "text"
      },
      "cell_type": "markdown",
      "source": [
        "## 2. Data analysis"
      ]
    },
    {
      "metadata": {
        "id": "KSlug71Cig5n",
        "colab_type": "text"
      },
      "cell_type": "markdown",
      "source": [
        "*Briefly describe data (class distribution, dimensionality) and how will it affect\n",
        "classification. Visualize the data. Don’t focus too much on the meaning of the features,\n",
        "unless you want to.*\n",
        "\n",
        "*- Include histograms showing class distribution.*\n",
        "\n"
      ]
    },
    {
      "metadata": {
        "id": "HFZJDCV-ORjk",
        "colab_type": "text"
      },
      "cell_type": "markdown",
      "source": [
        "The following code cells provide connection to the Kaggle account and download the datafiles to the \"kaggle_data\" directory of this notebook *(to be deleted later - only needed for Googe Colab)*.\n"
      ]
    },
    {
      "metadata": {
        "id": "CPdzH6IzONQh",
        "colab_type": "code",
        "colab": {
          "base_uri": "https://localhost:8080/",
          "height": 453
        },
        "cellView": "both",
        "outputId": "a7c9add9-bd51-462c-dfa4-afc4b93a9b81"
      },
      "cell_type": "code",
      "source": [
        "# Install Kaggle package to the environment to access the data through the API\n",
        "!pip install kaggle"
      ],
      "execution_count": 1,
      "outputs": [
        {
          "output_type": "stream",
          "text": [
            "Collecting kaggle\n",
            "\u001b[?25l  Downloading https://files.pythonhosted.org/packages/c6/78/832b9a9ec6b3baf8ec566e1f0a695f2fd08d2c94a6797257a106304bfc3c/kaggle-1.4.7.1.tar.gz (52kB)\n",
            "\u001b[K    100% |████████████████████████████████| 61kB 2.2MB/s \n",
            "\u001b[?25hRequirement already satisfied: urllib3<1.23.0,>=1.15 in /usr/local/lib/python3.6/dist-packages (from kaggle) (1.22)\n",
            "Requirement already satisfied: six>=1.10 in /usr/local/lib/python3.6/dist-packages (from kaggle) (1.11.0)\n",
            "Requirement already satisfied: certifi in /usr/local/lib/python3.6/dist-packages (from kaggle) (2018.10.15)\n",
            "Requirement already satisfied: python-dateutil in /usr/local/lib/python3.6/dist-packages (from kaggle) (2.5.3)\n",
            "Requirement already satisfied: requests in /usr/local/lib/python3.6/dist-packages (from kaggle) (2.18.4)\n",
            "Requirement already satisfied: tqdm in /usr/local/lib/python3.6/dist-packages (from kaggle) (4.27.0)\n",
            "Collecting python-slugify (from kaggle)\n",
            "  Downloading https://files.pythonhosted.org/packages/00/ad/c778a6df614b6217c30fe80045b365bfa08b5dd3cb02e8b37a6d25126781/python-slugify-1.2.6.tar.gz\n",
            "Requirement already satisfied: idna<2.7,>=2.5 in /usr/local/lib/python3.6/dist-packages (from requests->kaggle) (2.6)\n",
            "Requirement already satisfied: chardet<3.1.0,>=3.0.2 in /usr/local/lib/python3.6/dist-packages (from requests->kaggle) (3.0.4)\n",
            "Collecting Unidecode>=0.04.16 (from python-slugify->kaggle)\n",
            "\u001b[?25l  Downloading https://files.pythonhosted.org/packages/59/ef/67085e30e8bbcdd76e2f0a4ad8151c13a2c5bce77c85f8cad6e1f16fb141/Unidecode-1.0.22-py2.py3-none-any.whl (235kB)\n",
            "\u001b[K    100% |████████████████████████████████| 235kB 4.8MB/s \n",
            "\u001b[?25hBuilding wheels for collected packages: kaggle, python-slugify\n",
            "  Running setup.py bdist_wheel for kaggle ... \u001b[?25l-\b \b\\\b \bdone\n",
            "\u001b[?25h  Stored in directory: /root/.cache/pip/wheels/44/2c/df/22a6eeb780c36c28190faef6252b739fdc47145fd87a6642d4\n",
            "  Running setup.py bdist_wheel for python-slugify ... \u001b[?25l-\b \bdone\n",
            "\u001b[?25h  Stored in directory: /root/.cache/pip/wheels/e3/65/da/2045deea3098ed7471eca0e2460cfbd3fdfe8c1d6fa6fcac92\n",
            "Successfully built kaggle python-slugify\n",
            "Installing collected packages: Unidecode, python-slugify, kaggle\n",
            "Successfully installed Unidecode-1.0.22 kaggle-1.4.7.1 python-slugify-1.2.6\n"
          ],
          "name": "stdout"
        }
      ]
    },
    {
      "metadata": {
        "id": "0B60hddHbqJK",
        "colab_type": "code",
        "colab": {
          "base_uri": "https://localhost:8080/",
          "height": 52
        },
        "outputId": "eecaf004-135f-4f60-cc89-7e670b115b85"
      },
      "cell_type": "code",
      "source": [
        "# Setting API credentials (shouldn't be done this way - really unsafe in reality)\n",
        "%env KAGGLE_USERNAME=addableowl\n",
        "%env KAGGLE_KEY=640cd50ab6f85b9166403e039ba662d0"
      ],
      "execution_count": 2,
      "outputs": [
        {
          "output_type": "stream",
          "text": [
            "env: KAGGLE_USERNAME=addableowl\n",
            "env: KAGGLE_KEY=640cd50ab6f85b9166403e039ba662d0\n"
          ],
          "name": "stdout"
        }
      ]
    },
    {
      "metadata": {
        "id": "sK2h8ibIZW9w",
        "colab_type": "code",
        "colab": {
          "base_uri": "https://localhost:8080/",
          "height": 243
        },
        "outputId": "47345326-83dd-46fd-9dd7-b760de371c8d"
      },
      "cell_type": "code",
      "source": [
        "# Downloading and unzipping the data files\n",
        "!kaggle competitions download -c mlbp-data-analysis-challenge-accuracy-2018 -f test_data.csv -p kaggle_data\n",
        "!unzip kaggle_data/test_data.csv.zip -d kaggle_data\n",
        "!kaggle competitions download -c mlbp-data-analysis-challenge-accuracy-2018 -f train_data.csv -p kaggle_data\n",
        "!unzip kaggle_data/train_data.csv.zip -d kaggle_data\n",
        "!kaggle competitions download -c mlbp-data-analysis-challenge-accuracy-2018 -f train_labels.csv -p kaggle_data"
      ],
      "execution_count": 3,
      "outputs": [
        {
          "output_type": "stream",
          "text": [
            "Downloading test_data.csv.zip to kaggle_data\n",
            "\r  0% 0.00/4.87M [00:00<?, ?B/s]\n",
            "\r100% 4.87M/4.87M [00:00<00:00, 151MB/s]\n",
            "Archive:  kaggle_data/test_data.csv.zip\n",
            "  inflating: kaggle_data/test_data.csv  \n",
            "Downloading train_data.csv.zip to kaggle_data\n",
            "  0% 0.00/3.25M [00:00<?, ?B/s]\n",
            "100% 3.25M/3.25M [00:00<00:00, 168MB/s]\n",
            "Archive:  kaggle_data/train_data.csv.zip\n",
            "  inflating: kaggle_data/train_data.csv  \n",
            "Downloading train_labels.csv to kaggle_data\n",
            "  0% 0.00/8.61k [00:00<?, ?B/s]\n",
            "100% 8.61k/8.61k [00:00<00:00, 5.32MB/s]\n"
          ],
          "name": "stdout"
        }
      ]
    },
    {
      "metadata": {
        "id": "L24d_IQJc7cC",
        "colab_type": "text"
      },
      "cell_type": "markdown",
      "source": [
        "Now we finally move to getting hands on the data!\n"
      ]
    },
    {
      "metadata": {
        "id": "3Q8V48Txig5s",
        "colab_type": "code",
        "colab": {}
      },
      "cell_type": "code",
      "source": [
        "# Import libraries\n",
        "import pandas as pd\n",
        "import numpy as np\n",
        "import matplotlib.pyplot as plt"
      ],
      "execution_count": 0,
      "outputs": []
    },
    {
      "metadata": {
        "id": "7cfu2sBEig6C",
        "colab_type": "code",
        "colab": {}
      },
      "cell_type": "code",
      "source": [
        "# Load the data\n",
        "train_df = pd.read_csv('kaggle_data/train_data.csv', header=None)\n",
        "train_labels = pd.read_csv('kaggle_data/train_labels.csv', header=None)\n",
        "test_df = pd.read_csv('kaggle_data/test_data.csv', header=None)"
      ],
      "execution_count": 0,
      "outputs": []
    },
    {
      "metadata": {
        "id": "RpvjP-umn7bT",
        "colab_type": "text"
      },
      "cell_type": "markdown",
      "source": [
        "The feature space of the dataset is represented on this figure:\n",
        "![alt text](https://github.com/ipgromov/Machine-Learning-Project/blob/master/images/feature_space.png?raw=true)\n",
        "The feature extraction proccess is described below:\n",
        "![alt text](https://github.com/ipgromov/Machine-Learning-Project/blob/master/images/feature_extraction.png?raw=true)"
      ]
    },
    {
      "metadata": {
        "id": "duE6fXBFRUSv",
        "colab_type": "code",
        "colab": {}
      },
      "cell_type": "code",
      "source": [
        "# Add artificially generated 'id' column\n",
        "\n",
        "if 'id' not in train_df:\n",
        "  train_df.insert(0, 'id', range(train_df.shape[0]))\n",
        "train_df.set_index('id');\n",
        "\n",
        "# Put ; in the end if you do not want to generate the output from the line of code\n",
        "\n",
        "if 'id' not in train_labels:\n",
        "  train_labels.insert(0, 'id', range(train_labels.shape[0]))\n",
        "train_labels.set_index('id');\n",
        "\n",
        "if 'id' not in test_df:\n",
        "  test_df.insert(0, 'id', range(test_df.shape[0]))\n",
        "test_df.set_index('id');"
      ],
      "execution_count": 0,
      "outputs": []
    },
    {
      "metadata": {
        "id": "sDeUAPwWk2ql",
        "colab_type": "code",
        "colab": {}
      },
      "cell_type": "code",
      "source": [
        "# Create a function that generates meaningful names for the columns\n",
        "# The naming follows the pattern \"component_part_statistic\"\n",
        "\n",
        "def generate_col_names():\n",
        "  col_names = []\n",
        "  components = {'Rhythm': (24, ('mean', 'median' , 'variance', 'kurtosis', 'skewness', 'min', 'max')), 'Chroma' : (12, ('mean', 'std', 'min', 'max')), 'MFCC' : (12, ('mean', 'std', 'min', 'max'))} \n",
        "  abbreviations = {'Rhythm': 'r', 'Chroma' : 'c', 'MFCC' : 'm'} \n",
        "  \n",
        "  for component in components:\n",
        "    for statistic in components[component][1]:\n",
        "      for i in range(1, components[component][0] + 1):\n",
        "        col_names.append('{}_{}_{}'.format(abbreviations[component], i, statistic))\n",
        "  \n",
        "  return col_names"
      ],
      "execution_count": 0,
      "outputs": []
    },
    {
      "metadata": {
        "id": "pnmXT_hrqC57",
        "colab_type": "code",
        "colab": {}
      },
      "cell_type": "code",
      "source": [
        "# Call the function to get column names and then create a dictionary ( like 0 -> r_1_mean ... ) which can be used in df.rename method\n",
        "\n",
        "col_names = generate_col_names()\n",
        "col_names_dict = dict(zip(range(len(col_names)), col_names))\n",
        "\n",
        "train_df = train_df.rename(col_names_dict, axis='columns')\n",
        "test_df = test_df.rename(col_names_dict, axis='columns')\n",
        "\n",
        "# Rename the column in train labels as 'gt' (short for groundtruth)\n",
        "\n",
        "train_labels = train_labels.rename({0 : 'gt'}, axis='columns')"
      ],
      "execution_count": 0,
      "outputs": []
    },
    {
      "metadata": {
        "id": "wHk4rejgQ1ZC",
        "colab_type": "text"
      },
      "cell_type": "markdown",
      "source": [
        "Observations about training data:"
      ]
    },
    {
      "metadata": {
        "id": "pyxb8HS-dpFy",
        "colab_type": "code",
        "colab": {
          "base_uri": "https://localhost:8080/",
          "height": 343
        },
        "outputId": "008be2bc-fa6e-4a8f-c402-442ddb46bdd3"
      },
      "cell_type": "code",
      "source": [
        "# Observe charachteristics of the features in the dataset\n",
        "\n",
        "train_description = train_df.describe()\n",
        "train_description"
      ],
      "execution_count": 9,
      "outputs": [
        {
          "output_type": "execute_result",
          "data": {
            "text/html": [
              "<div>\n",
              "<style scoped>\n",
              "    .dataframe tbody tr th:only-of-type {\n",
              "        vertical-align: middle;\n",
              "    }\n",
              "\n",
              "    .dataframe tbody tr th {\n",
              "        vertical-align: top;\n",
              "    }\n",
              "\n",
              "    .dataframe thead th {\n",
              "        text-align: right;\n",
              "    }\n",
              "</style>\n",
              "<table border=\"1\" class=\"dataframe\">\n",
              "  <thead>\n",
              "    <tr style=\"text-align: right;\">\n",
              "      <th></th>\n",
              "      <th>id</th>\n",
              "      <th>r_1_mean</th>\n",
              "      <th>r_2_mean</th>\n",
              "      <th>r_3_mean</th>\n",
              "      <th>r_4_mean</th>\n",
              "      <th>r_5_mean</th>\n",
              "      <th>r_6_mean</th>\n",
              "      <th>r_7_mean</th>\n",
              "      <th>r_8_mean</th>\n",
              "      <th>r_9_mean</th>\n",
              "      <th>...</th>\n",
              "      <th>m_3_max</th>\n",
              "      <th>m_4_max</th>\n",
              "      <th>m_5_max</th>\n",
              "      <th>m_6_max</th>\n",
              "      <th>m_7_max</th>\n",
              "      <th>m_8_max</th>\n",
              "      <th>m_9_max</th>\n",
              "      <th>m_10_max</th>\n",
              "      <th>m_11_max</th>\n",
              "      <th>m_12_max</th>\n",
              "    </tr>\n",
              "  </thead>\n",
              "  <tbody>\n",
              "    <tr>\n",
              "      <th>count</th>\n",
              "      <td>4363.000000</td>\n",
              "      <td>4363.000000</td>\n",
              "      <td>4363.000000</td>\n",
              "      <td>4363.000000</td>\n",
              "      <td>4363.000000</td>\n",
              "      <td>4363.000000</td>\n",
              "      <td>4363.000000</td>\n",
              "      <td>4363.000000</td>\n",
              "      <td>4363.000000</td>\n",
              "      <td>4363.000000</td>\n",
              "      <td>...</td>\n",
              "      <td>4363.000000</td>\n",
              "      <td>4363.000000</td>\n",
              "      <td>4363.000000</td>\n",
              "      <td>4363.000000</td>\n",
              "      <td>4363.000000</td>\n",
              "      <td>4363.000000</td>\n",
              "      <td>4363.000000</td>\n",
              "      <td>4363.000000</td>\n",
              "      <td>4363.000000</td>\n",
              "      <td>4363.000000</td>\n",
              "    </tr>\n",
              "    <tr>\n",
              "      <th>mean</th>\n",
              "      <td>2181.000000</td>\n",
              "      <td>3097.683714</td>\n",
              "      <td>4390.947408</td>\n",
              "      <td>3987.672465</td>\n",
              "      <td>4004.861996</td>\n",
              "      <td>3086.664978</td>\n",
              "      <td>3329.815872</td>\n",
              "      <td>3043.628357</td>\n",
              "      <td>3034.574066</td>\n",
              "      <td>2671.463266</td>\n",
              "      <td>...</td>\n",
              "      <td>0.148412</td>\n",
              "      <td>0.235156</td>\n",
              "      <td>0.099695</td>\n",
              "      <td>0.149826</td>\n",
              "      <td>0.079100</td>\n",
              "      <td>0.102965</td>\n",
              "      <td>0.070939</td>\n",
              "      <td>0.078456</td>\n",
              "      <td>0.070708</td>\n",
              "      <td>0.059353</td>\n",
              "    </tr>\n",
              "    <tr>\n",
              "      <th>std</th>\n",
              "      <td>1259.633942</td>\n",
              "      <td>1309.219331</td>\n",
              "      <td>1457.625815</td>\n",
              "      <td>1228.185868</td>\n",
              "      <td>1242.336635</td>\n",
              "      <td>1031.020501</td>\n",
              "      <td>1124.845689</td>\n",
              "      <td>1097.705493</td>\n",
              "      <td>1121.064034</td>\n",
              "      <td>1017.781965</td>\n",
              "      <td>...</td>\n",
              "      <td>0.053224</td>\n",
              "      <td>0.102935</td>\n",
              "      <td>0.038655</td>\n",
              "      <td>0.057284</td>\n",
              "      <td>0.026279</td>\n",
              "      <td>0.030300</td>\n",
              "      <td>0.020456</td>\n",
              "      <td>0.022035</td>\n",
              "      <td>0.026422</td>\n",
              "      <td>0.018123</td>\n",
              "    </tr>\n",
              "    <tr>\n",
              "      <th>min</th>\n",
              "      <td>0.000000</td>\n",
              "      <td>1.240000</td>\n",
              "      <td>3.565000</td>\n",
              "      <td>73.644000</td>\n",
              "      <td>147.370000</td>\n",
              "      <td>58.027000</td>\n",
              "      <td>136.670000</td>\n",
              "      <td>139.310000</td>\n",
              "      <td>157.260000</td>\n",
              "      <td>118.530000</td>\n",
              "      <td>...</td>\n",
              "      <td>-0.013915</td>\n",
              "      <td>-0.013511</td>\n",
              "      <td>-0.022156</td>\n",
              "      <td>-0.046172</td>\n",
              "      <td>0.003606</td>\n",
              "      <td>0.005359</td>\n",
              "      <td>0.003377</td>\n",
              "      <td>0.011343</td>\n",
              "      <td>0.005302</td>\n",
              "      <td>-0.007228</td>\n",
              "    </tr>\n",
              "    <tr>\n",
              "      <th>25%</th>\n",
              "      <td>1090.500000</td>\n",
              "      <td>2200.900000</td>\n",
              "      <td>3386.150000</td>\n",
              "      <td>3128.650000</td>\n",
              "      <td>3173.200000</td>\n",
              "      <td>2373.000000</td>\n",
              "      <td>2551.050000</td>\n",
              "      <td>2264.800000</td>\n",
              "      <td>2233.150000</td>\n",
              "      <td>1923.200000</td>\n",
              "      <td>...</td>\n",
              "      <td>0.111165</td>\n",
              "      <td>0.148390</td>\n",
              "      <td>0.070612</td>\n",
              "      <td>0.109415</td>\n",
              "      <td>0.061715</td>\n",
              "      <td>0.081870</td>\n",
              "      <td>0.056992</td>\n",
              "      <td>0.062765</td>\n",
              "      <td>0.051641</td>\n",
              "      <td>0.046992</td>\n",
              "    </tr>\n",
              "    <tr>\n",
              "      <th>50%</th>\n",
              "      <td>2181.000000</td>\n",
              "      <td>3114.600000</td>\n",
              "      <td>4376.800000</td>\n",
              "      <td>3988.500000</td>\n",
              "      <td>3976.300000</td>\n",
              "      <td>3041.300000</td>\n",
              "      <td>3276.400000</td>\n",
              "      <td>2960.900000</td>\n",
              "      <td>2956.800000</td>\n",
              "      <td>2601.600000</td>\n",
              "      <td>...</td>\n",
              "      <td>0.144030</td>\n",
              "      <td>0.225000</td>\n",
              "      <td>0.097368</td>\n",
              "      <td>0.146210</td>\n",
              "      <td>0.075773</td>\n",
              "      <td>0.101270</td>\n",
              "      <td>0.069202</td>\n",
              "      <td>0.077442</td>\n",
              "      <td>0.066268</td>\n",
              "      <td>0.057879</td>\n",
              "    </tr>\n",
              "    <tr>\n",
              "      <th>75%</th>\n",
              "      <td>3271.500000</td>\n",
              "      <td>3949.150000</td>\n",
              "      <td>5391.900000</td>\n",
              "      <td>4814.950000</td>\n",
              "      <td>4795.300000</td>\n",
              "      <td>3741.400000</td>\n",
              "      <td>4055.700000</td>\n",
              "      <td>3769.100000</td>\n",
              "      <td>3758.100000</td>\n",
              "      <td>3347.200000</td>\n",
              "      <td>...</td>\n",
              "      <td>0.180845</td>\n",
              "      <td>0.325125</td>\n",
              "      <td>0.123075</td>\n",
              "      <td>0.187625</td>\n",
              "      <td>0.092576</td>\n",
              "      <td>0.121835</td>\n",
              "      <td>0.083009</td>\n",
              "      <td>0.093005</td>\n",
              "      <td>0.085709</td>\n",
              "      <td>0.069603</td>\n",
              "    </tr>\n",
              "    <tr>\n",
              "      <th>max</th>\n",
              "      <td>4362.000000</td>\n",
              "      <td>9172.400000</td>\n",
              "      <td>9062.500000</td>\n",
              "      <td>8318.100000</td>\n",
              "      <td>9342.200000</td>\n",
              "      <td>8275.700000</td>\n",
              "      <td>8169.500000</td>\n",
              "      <td>7547.600000</td>\n",
              "      <td>8262.200000</td>\n",
              "      <td>8667.900000</td>\n",
              "      <td>...</td>\n",
              "      <td>0.383050</td>\n",
              "      <td>0.485230</td>\n",
              "      <td>0.301290</td>\n",
              "      <td>0.352410</td>\n",
              "      <td>0.246010</td>\n",
              "      <td>0.235600</td>\n",
              "      <td>0.195000</td>\n",
              "      <td>0.170010</td>\n",
              "      <td>0.182180</td>\n",
              "      <td>0.149770</td>\n",
              "    </tr>\n",
              "  </tbody>\n",
              "</table>\n",
              "<p>8 rows × 265 columns</p>\n",
              "</div>"
            ],
            "text/plain": [
              "                id     r_1_mean     r_2_mean     r_3_mean     r_4_mean  \\\n",
              "count  4363.000000  4363.000000  4363.000000  4363.000000  4363.000000   \n",
              "mean   2181.000000  3097.683714  4390.947408  3987.672465  4004.861996   \n",
              "std    1259.633942  1309.219331  1457.625815  1228.185868  1242.336635   \n",
              "min       0.000000     1.240000     3.565000    73.644000   147.370000   \n",
              "25%    1090.500000  2200.900000  3386.150000  3128.650000  3173.200000   \n",
              "50%    2181.000000  3114.600000  4376.800000  3988.500000  3976.300000   \n",
              "75%    3271.500000  3949.150000  5391.900000  4814.950000  4795.300000   \n",
              "max    4362.000000  9172.400000  9062.500000  8318.100000  9342.200000   \n",
              "\n",
              "          r_5_mean     r_6_mean     r_7_mean     r_8_mean     r_9_mean  \\\n",
              "count  4363.000000  4363.000000  4363.000000  4363.000000  4363.000000   \n",
              "mean   3086.664978  3329.815872  3043.628357  3034.574066  2671.463266   \n",
              "std    1031.020501  1124.845689  1097.705493  1121.064034  1017.781965   \n",
              "min      58.027000   136.670000   139.310000   157.260000   118.530000   \n",
              "25%    2373.000000  2551.050000  2264.800000  2233.150000  1923.200000   \n",
              "50%    3041.300000  3276.400000  2960.900000  2956.800000  2601.600000   \n",
              "75%    3741.400000  4055.700000  3769.100000  3758.100000  3347.200000   \n",
              "max    8275.700000  8169.500000  7547.600000  8262.200000  8667.900000   \n",
              "\n",
              "          ...           m_3_max      m_4_max      m_5_max      m_6_max  \\\n",
              "count     ...       4363.000000  4363.000000  4363.000000  4363.000000   \n",
              "mean      ...          0.148412     0.235156     0.099695     0.149826   \n",
              "std       ...          0.053224     0.102935     0.038655     0.057284   \n",
              "min       ...         -0.013915    -0.013511    -0.022156    -0.046172   \n",
              "25%       ...          0.111165     0.148390     0.070612     0.109415   \n",
              "50%       ...          0.144030     0.225000     0.097368     0.146210   \n",
              "75%       ...          0.180845     0.325125     0.123075     0.187625   \n",
              "max       ...          0.383050     0.485230     0.301290     0.352410   \n",
              "\n",
              "           m_7_max      m_8_max      m_9_max     m_10_max     m_11_max  \\\n",
              "count  4363.000000  4363.000000  4363.000000  4363.000000  4363.000000   \n",
              "mean      0.079100     0.102965     0.070939     0.078456     0.070708   \n",
              "std       0.026279     0.030300     0.020456     0.022035     0.026422   \n",
              "min       0.003606     0.005359     0.003377     0.011343     0.005302   \n",
              "25%       0.061715     0.081870     0.056992     0.062765     0.051641   \n",
              "50%       0.075773     0.101270     0.069202     0.077442     0.066268   \n",
              "75%       0.092576     0.121835     0.083009     0.093005     0.085709   \n",
              "max       0.246010     0.235600     0.195000     0.170010     0.182180   \n",
              "\n",
              "          m_12_max  \n",
              "count  4363.000000  \n",
              "mean      0.059353  \n",
              "std       0.018123  \n",
              "min      -0.007228  \n",
              "25%       0.046992  \n",
              "50%       0.057879  \n",
              "75%       0.069603  \n",
              "max       0.149770  \n",
              "\n",
              "[8 rows x 265 columns]"
            ]
          },
          "metadata": {
            "tags": []
          },
          "execution_count": 9
        }
      ]
    },
    {
      "metadata": {
        "id": "WBs-7vHjbL95",
        "colab_type": "code",
        "colab": {},
        "cellView": "code"
      },
      "cell_type": "code",
      "source": [
        "# Export train_description as excel file\n",
        "\n",
        "# !pip install openpyxl\n",
        "\n",
        "# writer = pd.ExcelWriter('output.xlsx')\n",
        "# train_description.to_excel(writer,'Sheet1')\n",
        "# writer.save()"
      ],
      "execution_count": 0,
      "outputs": []
    },
    {
      "metadata": {
        "id": "5m-LSs79j1WX",
        "colab_type": "code",
        "colab": {
          "base_uri": "https://localhost:8080/",
          "height": 251
        },
        "outputId": "b06eeb92-4e87-4ab4-bbfc-d0614b12d97a"
      },
      "cell_type": "code",
      "source": [
        "# Observe the fisrt five rows of the dataframe\n",
        "train_df.head()"
      ],
      "execution_count": 11,
      "outputs": [
        {
          "output_type": "execute_result",
          "data": {
            "text/html": [
              "<div>\n",
              "<style scoped>\n",
              "    .dataframe tbody tr th:only-of-type {\n",
              "        vertical-align: middle;\n",
              "    }\n",
              "\n",
              "    .dataframe tbody tr th {\n",
              "        vertical-align: top;\n",
              "    }\n",
              "\n",
              "    .dataframe thead th {\n",
              "        text-align: right;\n",
              "    }\n",
              "</style>\n",
              "<table border=\"1\" class=\"dataframe\">\n",
              "  <thead>\n",
              "    <tr style=\"text-align: right;\">\n",
              "      <th></th>\n",
              "      <th>id</th>\n",
              "      <th>r_1_mean</th>\n",
              "      <th>r_2_mean</th>\n",
              "      <th>r_3_mean</th>\n",
              "      <th>r_4_mean</th>\n",
              "      <th>r_5_mean</th>\n",
              "      <th>r_6_mean</th>\n",
              "      <th>r_7_mean</th>\n",
              "      <th>r_8_mean</th>\n",
              "      <th>r_9_mean</th>\n",
              "      <th>...</th>\n",
              "      <th>m_3_max</th>\n",
              "      <th>m_4_max</th>\n",
              "      <th>m_5_max</th>\n",
              "      <th>m_6_max</th>\n",
              "      <th>m_7_max</th>\n",
              "      <th>m_8_max</th>\n",
              "      <th>m_9_max</th>\n",
              "      <th>m_10_max</th>\n",
              "      <th>m_11_max</th>\n",
              "      <th>m_12_max</th>\n",
              "    </tr>\n",
              "  </thead>\n",
              "  <tbody>\n",
              "    <tr>\n",
              "      <th>0</th>\n",
              "      <td>0</td>\n",
              "      <td>1040.7</td>\n",
              "      <td>2315.6</td>\n",
              "      <td>2839.1</td>\n",
              "      <td>2552.2</td>\n",
              "      <td>2290.4</td>\n",
              "      <td>1913.8</td>\n",
              "      <td>2152.6</td>\n",
              "      <td>1930.3</td>\n",
              "      <td>2079.3</td>\n",
              "      <td>...</td>\n",
              "      <td>0.216490</td>\n",
              "      <td>0.36548</td>\n",
              "      <td>0.093584</td>\n",
              "      <td>0.166870</td>\n",
              "      <td>0.083426</td>\n",
              "      <td>0.118090</td>\n",
              "      <td>0.089792</td>\n",
              "      <td>0.074371</td>\n",
              "      <td>0.073162</td>\n",
              "      <td>0.059463</td>\n",
              "    </tr>\n",
              "    <tr>\n",
              "      <th>1</th>\n",
              "      <td>1</td>\n",
              "      <td>2309.4</td>\n",
              "      <td>4780.4</td>\n",
              "      <td>4055.7</td>\n",
              "      <td>3120.5</td>\n",
              "      <td>1979.9</td>\n",
              "      <td>2343.6</td>\n",
              "      <td>2634.2</td>\n",
              "      <td>3208.5</td>\n",
              "      <td>3078.0</td>\n",
              "      <td>...</td>\n",
              "      <td>0.100670</td>\n",
              "      <td>0.14739</td>\n",
              "      <td>0.102560</td>\n",
              "      <td>0.213040</td>\n",
              "      <td>0.082041</td>\n",
              "      <td>0.080967</td>\n",
              "      <td>0.076450</td>\n",
              "      <td>0.052523</td>\n",
              "      <td>0.052357</td>\n",
              "      <td>0.055297</td>\n",
              "    </tr>\n",
              "    <tr>\n",
              "      <th>2</th>\n",
              "      <td>2</td>\n",
              "      <td>2331.9</td>\n",
              "      <td>4607.0</td>\n",
              "      <td>4732.3</td>\n",
              "      <td>5007.0</td>\n",
              "      <td>3164.9</td>\n",
              "      <td>3171.9</td>\n",
              "      <td>2915.7</td>\n",
              "      <td>3282.3</td>\n",
              "      <td>2400.0</td>\n",
              "      <td>...</td>\n",
              "      <td>0.126760</td>\n",
              "      <td>0.36321</td>\n",
              "      <td>0.114200</td>\n",
              "      <td>0.223780</td>\n",
              "      <td>0.100770</td>\n",
              "      <td>0.186910</td>\n",
              "      <td>0.067270</td>\n",
              "      <td>0.061138</td>\n",
              "      <td>0.085509</td>\n",
              "      <td>0.049422</td>\n",
              "    </tr>\n",
              "    <tr>\n",
              "      <th>3</th>\n",
              "      <td>3</td>\n",
              "      <td>3350.9</td>\n",
              "      <td>6274.4</td>\n",
              "      <td>5037.0</td>\n",
              "      <td>4609.7</td>\n",
              "      <td>3438.8</td>\n",
              "      <td>3925.8</td>\n",
              "      <td>3746.4</td>\n",
              "      <td>3539.4</td>\n",
              "      <td>3053.7</td>\n",
              "      <td>...</td>\n",
              "      <td>0.096479</td>\n",
              "      <td>0.28950</td>\n",
              "      <td>0.074124</td>\n",
              "      <td>0.201580</td>\n",
              "      <td>0.049032</td>\n",
              "      <td>0.130210</td>\n",
              "      <td>0.045800</td>\n",
              "      <td>0.080885</td>\n",
              "      <td>0.148910</td>\n",
              "      <td>0.042027</td>\n",
              "    </tr>\n",
              "    <tr>\n",
              "      <th>4</th>\n",
              "      <td>4</td>\n",
              "      <td>2017.6</td>\n",
              "      <td>3351.8</td>\n",
              "      <td>2924.9</td>\n",
              "      <td>2726.3</td>\n",
              "      <td>1979.9</td>\n",
              "      <td>1930.9</td>\n",
              "      <td>2083.4</td>\n",
              "      <td>1889.2</td>\n",
              "      <td>1695.4</td>\n",
              "      <td>...</td>\n",
              "      <td>0.138340</td>\n",
              "      <td>0.38266</td>\n",
              "      <td>0.079402</td>\n",
              "      <td>0.063495</td>\n",
              "      <td>0.053717</td>\n",
              "      <td>0.086750</td>\n",
              "      <td>0.062090</td>\n",
              "      <td>0.048999</td>\n",
              "      <td>0.033159</td>\n",
              "      <td>0.070813</td>\n",
              "    </tr>\n",
              "  </tbody>\n",
              "</table>\n",
              "<p>5 rows × 265 columns</p>\n",
              "</div>"
            ],
            "text/plain": [
              "   id  r_1_mean  r_2_mean  r_3_mean  r_4_mean  r_5_mean  r_6_mean  r_7_mean  \\\n",
              "0   0    1040.7    2315.6    2839.1    2552.2    2290.4    1913.8    2152.6   \n",
              "1   1    2309.4    4780.4    4055.7    3120.5    1979.9    2343.6    2634.2   \n",
              "2   2    2331.9    4607.0    4732.3    5007.0    3164.9    3171.9    2915.7   \n",
              "3   3    3350.9    6274.4    5037.0    4609.7    3438.8    3925.8    3746.4   \n",
              "4   4    2017.6    3351.8    2924.9    2726.3    1979.9    1930.9    2083.4   \n",
              "\n",
              "   r_8_mean  r_9_mean    ...      m_3_max  m_4_max   m_5_max   m_6_max  \\\n",
              "0    1930.3    2079.3    ...     0.216490  0.36548  0.093584  0.166870   \n",
              "1    3208.5    3078.0    ...     0.100670  0.14739  0.102560  0.213040   \n",
              "2    3282.3    2400.0    ...     0.126760  0.36321  0.114200  0.223780   \n",
              "3    3539.4    3053.7    ...     0.096479  0.28950  0.074124  0.201580   \n",
              "4    1889.2    1695.4    ...     0.138340  0.38266  0.079402  0.063495   \n",
              "\n",
              "    m_7_max   m_8_max   m_9_max  m_10_max  m_11_max  m_12_max  \n",
              "0  0.083426  0.118090  0.089792  0.074371  0.073162  0.059463  \n",
              "1  0.082041  0.080967  0.076450  0.052523  0.052357  0.055297  \n",
              "2  0.100770  0.186910  0.067270  0.061138  0.085509  0.049422  \n",
              "3  0.049032  0.130210  0.045800  0.080885  0.148910  0.042027  \n",
              "4  0.053717  0.086750  0.062090  0.048999  0.033159  0.070813  \n",
              "\n",
              "[5 rows x 265 columns]"
            ]
          },
          "metadata": {
            "tags": []
          },
          "execution_count": 11
        }
      ]
    },
    {
      "metadata": {
        "id": "cSu45sGrSxq7",
        "colab_type": "code",
        "colab": {
          "base_uri": "https://localhost:8080/",
          "height": 251
        },
        "outputId": "2f2acf2c-4fb5-4518-e4b8-fd097930c002"
      },
      "cell_type": "code",
      "source": [
        "# And the five last rows\n",
        "train_df.tail()"
      ],
      "execution_count": 12,
      "outputs": [
        {
          "output_type": "execute_result",
          "data": {
            "text/html": [
              "<div>\n",
              "<style scoped>\n",
              "    .dataframe tbody tr th:only-of-type {\n",
              "        vertical-align: middle;\n",
              "    }\n",
              "\n",
              "    .dataframe tbody tr th {\n",
              "        vertical-align: top;\n",
              "    }\n",
              "\n",
              "    .dataframe thead th {\n",
              "        text-align: right;\n",
              "    }\n",
              "</style>\n",
              "<table border=\"1\" class=\"dataframe\">\n",
              "  <thead>\n",
              "    <tr style=\"text-align: right;\">\n",
              "      <th></th>\n",
              "      <th>id</th>\n",
              "      <th>r_1_mean</th>\n",
              "      <th>r_2_mean</th>\n",
              "      <th>r_3_mean</th>\n",
              "      <th>r_4_mean</th>\n",
              "      <th>r_5_mean</th>\n",
              "      <th>r_6_mean</th>\n",
              "      <th>r_7_mean</th>\n",
              "      <th>r_8_mean</th>\n",
              "      <th>r_9_mean</th>\n",
              "      <th>...</th>\n",
              "      <th>m_3_max</th>\n",
              "      <th>m_4_max</th>\n",
              "      <th>m_5_max</th>\n",
              "      <th>m_6_max</th>\n",
              "      <th>m_7_max</th>\n",
              "      <th>m_8_max</th>\n",
              "      <th>m_9_max</th>\n",
              "      <th>m_10_max</th>\n",
              "      <th>m_11_max</th>\n",
              "      <th>m_12_max</th>\n",
              "    </tr>\n",
              "  </thead>\n",
              "  <tbody>\n",
              "    <tr>\n",
              "      <th>4358</th>\n",
              "      <td>4358</td>\n",
              "      <td>3050.6</td>\n",
              "      <td>6570.7</td>\n",
              "      <td>5138.4</td>\n",
              "      <td>3620.7</td>\n",
              "      <td>3059.7</td>\n",
              "      <td>3909.8</td>\n",
              "      <td>3408.6</td>\n",
              "      <td>2232.5</td>\n",
              "      <td>2344.70</td>\n",
              "      <td>...</td>\n",
              "      <td>0.23154</td>\n",
              "      <td>0.28806</td>\n",
              "      <td>0.067744</td>\n",
              "      <td>0.094464</td>\n",
              "      <td>0.036829</td>\n",
              "      <td>0.091753</td>\n",
              "      <td>0.073977</td>\n",
              "      <td>0.102750</td>\n",
              "      <td>0.073559</td>\n",
              "      <td>0.059759</td>\n",
              "    </tr>\n",
              "    <tr>\n",
              "      <th>4359</th>\n",
              "      <td>4359</td>\n",
              "      <td>4356.6</td>\n",
              "      <td>2882.6</td>\n",
              "      <td>2349.8</td>\n",
              "      <td>2628.1</td>\n",
              "      <td>2838.8</td>\n",
              "      <td>3846.1</td>\n",
              "      <td>3490.6</td>\n",
              "      <td>3023.8</td>\n",
              "      <td>3023.50</td>\n",
              "      <td>...</td>\n",
              "      <td>0.16211</td>\n",
              "      <td>0.27834</td>\n",
              "      <td>0.110860</td>\n",
              "      <td>0.229430</td>\n",
              "      <td>0.091665</td>\n",
              "      <td>0.080436</td>\n",
              "      <td>0.083978</td>\n",
              "      <td>0.096520</td>\n",
              "      <td>0.080711</td>\n",
              "      <td>0.064529</td>\n",
              "    </tr>\n",
              "    <tr>\n",
              "      <th>4360</th>\n",
              "      <td>4360</td>\n",
              "      <td>2624.2</td>\n",
              "      <td>3688.7</td>\n",
              "      <td>2128.4</td>\n",
              "      <td>2318.7</td>\n",
              "      <td>1855.8</td>\n",
              "      <td>2002.8</td>\n",
              "      <td>1277.8</td>\n",
              "      <td>1391.8</td>\n",
              "      <td>1459.90</td>\n",
              "      <td>...</td>\n",
              "      <td>0.23888</td>\n",
              "      <td>0.28705</td>\n",
              "      <td>0.120680</td>\n",
              "      <td>0.200850</td>\n",
              "      <td>0.105450</td>\n",
              "      <td>0.082589</td>\n",
              "      <td>0.079226</td>\n",
              "      <td>0.065561</td>\n",
              "      <td>0.052131</td>\n",
              "      <td>0.080473</td>\n",
              "    </tr>\n",
              "    <tr>\n",
              "      <th>4361</th>\n",
              "      <td>4361</td>\n",
              "      <td>2751.0</td>\n",
              "      <td>3767.4</td>\n",
              "      <td>3858.7</td>\n",
              "      <td>6012.7</td>\n",
              "      <td>3201.4</td>\n",
              "      <td>3604.1</td>\n",
              "      <td>3332.9</td>\n",
              "      <td>3119.4</td>\n",
              "      <td>2464.10</td>\n",
              "      <td>...</td>\n",
              "      <td>0.11400</td>\n",
              "      <td>0.17835</td>\n",
              "      <td>0.139040</td>\n",
              "      <td>0.121960</td>\n",
              "      <td>0.068742</td>\n",
              "      <td>0.113470</td>\n",
              "      <td>0.076305</td>\n",
              "      <td>0.056053</td>\n",
              "      <td>0.042466</td>\n",
              "      <td>0.057299</td>\n",
              "    </tr>\n",
              "    <tr>\n",
              "      <th>4362</th>\n",
              "      <td>4362</td>\n",
              "      <td>4622.2</td>\n",
              "      <td>4410.2</td>\n",
              "      <td>2117.4</td>\n",
              "      <td>1533.8</td>\n",
              "      <td>1180.4</td>\n",
              "      <td>1164.3</td>\n",
              "      <td>1175.7</td>\n",
              "      <td>1005.4</td>\n",
              "      <td>906.58</td>\n",
              "      <td>...</td>\n",
              "      <td>0.07100</td>\n",
              "      <td>0.30119</td>\n",
              "      <td>0.057491</td>\n",
              "      <td>0.187630</td>\n",
              "      <td>0.080588</td>\n",
              "      <td>0.128700</td>\n",
              "      <td>0.036234</td>\n",
              "      <td>0.117810</td>\n",
              "      <td>0.098176</td>\n",
              "      <td>0.032360</td>\n",
              "    </tr>\n",
              "  </tbody>\n",
              "</table>\n",
              "<p>5 rows × 265 columns</p>\n",
              "</div>"
            ],
            "text/plain": [
              "        id  r_1_mean  r_2_mean  r_3_mean  r_4_mean  r_5_mean  r_6_mean  \\\n",
              "4358  4358    3050.6    6570.7    5138.4    3620.7    3059.7    3909.8   \n",
              "4359  4359    4356.6    2882.6    2349.8    2628.1    2838.8    3846.1   \n",
              "4360  4360    2624.2    3688.7    2128.4    2318.7    1855.8    2002.8   \n",
              "4361  4361    2751.0    3767.4    3858.7    6012.7    3201.4    3604.1   \n",
              "4362  4362    4622.2    4410.2    2117.4    1533.8    1180.4    1164.3   \n",
              "\n",
              "      r_7_mean  r_8_mean  r_9_mean    ...     m_3_max  m_4_max   m_5_max  \\\n",
              "4358    3408.6    2232.5   2344.70    ...     0.23154  0.28806  0.067744   \n",
              "4359    3490.6    3023.8   3023.50    ...     0.16211  0.27834  0.110860   \n",
              "4360    1277.8    1391.8   1459.90    ...     0.23888  0.28705  0.120680   \n",
              "4361    3332.9    3119.4   2464.10    ...     0.11400  0.17835  0.139040   \n",
              "4362    1175.7    1005.4    906.58    ...     0.07100  0.30119  0.057491   \n",
              "\n",
              "       m_6_max   m_7_max   m_8_max   m_9_max  m_10_max  m_11_max  m_12_max  \n",
              "4358  0.094464  0.036829  0.091753  0.073977  0.102750  0.073559  0.059759  \n",
              "4359  0.229430  0.091665  0.080436  0.083978  0.096520  0.080711  0.064529  \n",
              "4360  0.200850  0.105450  0.082589  0.079226  0.065561  0.052131  0.080473  \n",
              "4361  0.121960  0.068742  0.113470  0.076305  0.056053  0.042466  0.057299  \n",
              "4362  0.187630  0.080588  0.128700  0.036234  0.117810  0.098176  0.032360  \n",
              "\n",
              "[5 rows x 265 columns]"
            ]
          },
          "metadata": {
            "tags": []
          },
          "execution_count": 12
        }
      ]
    },
    {
      "metadata": {
        "id": "sDtBmUJoS9f2",
        "colab_type": "text"
      },
      "cell_type": "markdown",
      "source": [
        "Observations about train labels:"
      ]
    },
    {
      "metadata": {
        "id": "-xImhuBBS_6R",
        "colab_type": "code",
        "colab": {
          "base_uri": "https://localhost:8080/",
          "height": 294
        },
        "outputId": "e441bde6-93e5-4bbe-bbb1-14bbc80082bb"
      },
      "cell_type": "code",
      "source": [
        "train_labels.describe()"
      ],
      "execution_count": 13,
      "outputs": [
        {
          "output_type": "execute_result",
          "data": {
            "text/html": [
              "<div>\n",
              "<style scoped>\n",
              "    .dataframe tbody tr th:only-of-type {\n",
              "        vertical-align: middle;\n",
              "    }\n",
              "\n",
              "    .dataframe tbody tr th {\n",
              "        vertical-align: top;\n",
              "    }\n",
              "\n",
              "    .dataframe thead th {\n",
              "        text-align: right;\n",
              "    }\n",
              "</style>\n",
              "<table border=\"1\" class=\"dataframe\">\n",
              "  <thead>\n",
              "    <tr style=\"text-align: right;\">\n",
              "      <th></th>\n",
              "      <th>id</th>\n",
              "      <th>gt</th>\n",
              "    </tr>\n",
              "  </thead>\n",
              "  <tbody>\n",
              "    <tr>\n",
              "      <th>count</th>\n",
              "      <td>4363.000000</td>\n",
              "      <td>4363.000000</td>\n",
              "    </tr>\n",
              "    <tr>\n",
              "      <th>mean</th>\n",
              "      <td>2181.000000</td>\n",
              "      <td>2.812056</td>\n",
              "    </tr>\n",
              "    <tr>\n",
              "      <th>std</th>\n",
              "      <td>1259.633942</td>\n",
              "      <td>2.500889</td>\n",
              "    </tr>\n",
              "    <tr>\n",
              "      <th>min</th>\n",
              "      <td>0.000000</td>\n",
              "      <td>1.000000</td>\n",
              "    </tr>\n",
              "    <tr>\n",
              "      <th>25%</th>\n",
              "      <td>1090.500000</td>\n",
              "      <td>1.000000</td>\n",
              "    </tr>\n",
              "    <tr>\n",
              "      <th>50%</th>\n",
              "      <td>2181.000000</td>\n",
              "      <td>2.000000</td>\n",
              "    </tr>\n",
              "    <tr>\n",
              "      <th>75%</th>\n",
              "      <td>3271.500000</td>\n",
              "      <td>4.000000</td>\n",
              "    </tr>\n",
              "    <tr>\n",
              "      <th>max</th>\n",
              "      <td>4362.000000</td>\n",
              "      <td>10.000000</td>\n",
              "    </tr>\n",
              "  </tbody>\n",
              "</table>\n",
              "</div>"
            ],
            "text/plain": [
              "                id           gt\n",
              "count  4363.000000  4363.000000\n",
              "mean   2181.000000     2.812056\n",
              "std    1259.633942     2.500889\n",
              "min       0.000000     1.000000\n",
              "25%    1090.500000     1.000000\n",
              "50%    2181.000000     2.000000\n",
              "75%    3271.500000     4.000000\n",
              "max    4362.000000    10.000000"
            ]
          },
          "metadata": {
            "tags": []
          },
          "execution_count": 13
        }
      ]
    },
    {
      "metadata": {
        "id": "zpdlumBGS_tb",
        "colab_type": "code",
        "colab": {
          "base_uri": "https://localhost:8080/",
          "height": 202
        },
        "outputId": "8b7446ac-602b-4ad7-98cb-d99c908e7bc7"
      },
      "cell_type": "code",
      "source": [
        "train_labels.head()"
      ],
      "execution_count": 14,
      "outputs": [
        {
          "output_type": "execute_result",
          "data": {
            "text/html": [
              "<div>\n",
              "<style scoped>\n",
              "    .dataframe tbody tr th:only-of-type {\n",
              "        vertical-align: middle;\n",
              "    }\n",
              "\n",
              "    .dataframe tbody tr th {\n",
              "        vertical-align: top;\n",
              "    }\n",
              "\n",
              "    .dataframe thead th {\n",
              "        text-align: right;\n",
              "    }\n",
              "</style>\n",
              "<table border=\"1\" class=\"dataframe\">\n",
              "  <thead>\n",
              "    <tr style=\"text-align: right;\">\n",
              "      <th></th>\n",
              "      <th>id</th>\n",
              "      <th>gt</th>\n",
              "    </tr>\n",
              "  </thead>\n",
              "  <tbody>\n",
              "    <tr>\n",
              "      <th>0</th>\n",
              "      <td>0</td>\n",
              "      <td>1</td>\n",
              "    </tr>\n",
              "    <tr>\n",
              "      <th>1</th>\n",
              "      <td>1</td>\n",
              "      <td>1</td>\n",
              "    </tr>\n",
              "    <tr>\n",
              "      <th>2</th>\n",
              "      <td>2</td>\n",
              "      <td>1</td>\n",
              "    </tr>\n",
              "    <tr>\n",
              "      <th>3</th>\n",
              "      <td>3</td>\n",
              "      <td>1</td>\n",
              "    </tr>\n",
              "    <tr>\n",
              "      <th>4</th>\n",
              "      <td>4</td>\n",
              "      <td>1</td>\n",
              "    </tr>\n",
              "  </tbody>\n",
              "</table>\n",
              "</div>"
            ],
            "text/plain": [
              "   id  gt\n",
              "0   0   1\n",
              "1   1   1\n",
              "2   2   1\n",
              "3   3   1\n",
              "4   4   1"
            ]
          },
          "metadata": {
            "tags": []
          },
          "execution_count": 14
        }
      ]
    },
    {
      "metadata": {
        "id": "5byj0YtOS_pz",
        "colab_type": "code",
        "colab": {
          "base_uri": "https://localhost:8080/",
          "height": 202
        },
        "outputId": "46341c60-ef89-47f6-f877-443dff1eaec4"
      },
      "cell_type": "code",
      "source": [
        "train_labels.tail()"
      ],
      "execution_count": 15,
      "outputs": [
        {
          "output_type": "execute_result",
          "data": {
            "text/html": [
              "<div>\n",
              "<style scoped>\n",
              "    .dataframe tbody tr th:only-of-type {\n",
              "        vertical-align: middle;\n",
              "    }\n",
              "\n",
              "    .dataframe tbody tr th {\n",
              "        vertical-align: top;\n",
              "    }\n",
              "\n",
              "    .dataframe thead th {\n",
              "        text-align: right;\n",
              "    }\n",
              "</style>\n",
              "<table border=\"1\" class=\"dataframe\">\n",
              "  <thead>\n",
              "    <tr style=\"text-align: right;\">\n",
              "      <th></th>\n",
              "      <th>id</th>\n",
              "      <th>gt</th>\n",
              "    </tr>\n",
              "  </thead>\n",
              "  <tbody>\n",
              "    <tr>\n",
              "      <th>4358</th>\n",
              "      <td>4358</td>\n",
              "      <td>2</td>\n",
              "    </tr>\n",
              "    <tr>\n",
              "      <th>4359</th>\n",
              "      <td>4359</td>\n",
              "      <td>3</td>\n",
              "    </tr>\n",
              "    <tr>\n",
              "      <th>4360</th>\n",
              "      <td>4360</td>\n",
              "      <td>2</td>\n",
              "    </tr>\n",
              "    <tr>\n",
              "      <th>4361</th>\n",
              "      <td>4361</td>\n",
              "      <td>5</td>\n",
              "    </tr>\n",
              "    <tr>\n",
              "      <th>4362</th>\n",
              "      <td>4362</td>\n",
              "      <td>2</td>\n",
              "    </tr>\n",
              "  </tbody>\n",
              "</table>\n",
              "</div>"
            ],
            "text/plain": [
              "        id  gt\n",
              "4358  4358   2\n",
              "4359  4359   3\n",
              "4360  4360   2\n",
              "4361  4361   5\n",
              "4362  4362   2"
            ]
          },
          "metadata": {
            "tags": []
          },
          "execution_count": 15
        }
      ]
    },
    {
      "metadata": {
        "id": "NMy2lBW8RDQv",
        "colab_type": "text"
      },
      "cell_type": "markdown",
      "source": [
        "Observations about test data:"
      ]
    },
    {
      "metadata": {
        "id": "dFU6QjczQZOw",
        "colab_type": "code",
        "colab": {
          "base_uri": "https://localhost:8080/",
          "height": 343
        },
        "outputId": "a849cacd-d78c-49d3-ff43-f34798baca24"
      },
      "cell_type": "code",
      "source": [
        "test_df.describe()"
      ],
      "execution_count": 16,
      "outputs": [
        {
          "output_type": "execute_result",
          "data": {
            "text/html": [
              "<div>\n",
              "<style scoped>\n",
              "    .dataframe tbody tr th:only-of-type {\n",
              "        vertical-align: middle;\n",
              "    }\n",
              "\n",
              "    .dataframe tbody tr th {\n",
              "        vertical-align: top;\n",
              "    }\n",
              "\n",
              "    .dataframe thead th {\n",
              "        text-align: right;\n",
              "    }\n",
              "</style>\n",
              "<table border=\"1\" class=\"dataframe\">\n",
              "  <thead>\n",
              "    <tr style=\"text-align: right;\">\n",
              "      <th></th>\n",
              "      <th>id</th>\n",
              "      <th>r_1_mean</th>\n",
              "      <th>r_2_mean</th>\n",
              "      <th>r_3_mean</th>\n",
              "      <th>r_4_mean</th>\n",
              "      <th>r_5_mean</th>\n",
              "      <th>r_6_mean</th>\n",
              "      <th>r_7_mean</th>\n",
              "      <th>r_8_mean</th>\n",
              "      <th>r_9_mean</th>\n",
              "      <th>...</th>\n",
              "      <th>m_3_max</th>\n",
              "      <th>m_4_max</th>\n",
              "      <th>m_5_max</th>\n",
              "      <th>m_6_max</th>\n",
              "      <th>m_7_max</th>\n",
              "      <th>m_8_max</th>\n",
              "      <th>m_9_max</th>\n",
              "      <th>m_10_max</th>\n",
              "      <th>m_11_max</th>\n",
              "      <th>m_12_max</th>\n",
              "    </tr>\n",
              "  </thead>\n",
              "  <tbody>\n",
              "    <tr>\n",
              "      <th>count</th>\n",
              "      <td>6544.000000</td>\n",
              "      <td>6544.000000</td>\n",
              "      <td>6544.000000</td>\n",
              "      <td>6544.000000</td>\n",
              "      <td>6544.000000</td>\n",
              "      <td>6544.000000</td>\n",
              "      <td>6544.000000</td>\n",
              "      <td>6544.000000</td>\n",
              "      <td>6544.000000</td>\n",
              "      <td>6544.00000</td>\n",
              "      <td>...</td>\n",
              "      <td>6544.000000</td>\n",
              "      <td>6544.000000</td>\n",
              "      <td>6544.000000</td>\n",
              "      <td>6544.000000</td>\n",
              "      <td>6544.000000</td>\n",
              "      <td>6544.000000</td>\n",
              "      <td>6544.000000</td>\n",
              "      <td>6544.000000</td>\n",
              "      <td>6544.000000</td>\n",
              "      <td>6544.000000</td>\n",
              "    </tr>\n",
              "    <tr>\n",
              "      <th>mean</th>\n",
              "      <td>3271.500000</td>\n",
              "      <td>3058.037015</td>\n",
              "      <td>4355.873590</td>\n",
              "      <td>3932.126318</td>\n",
              "      <td>3951.374646</td>\n",
              "      <td>3047.596245</td>\n",
              "      <td>3274.043362</td>\n",
              "      <td>3001.383570</td>\n",
              "      <td>2985.446799</td>\n",
              "      <td>2611.92090</td>\n",
              "      <td>...</td>\n",
              "      <td>0.149118</td>\n",
              "      <td>0.235902</td>\n",
              "      <td>0.098636</td>\n",
              "      <td>0.149432</td>\n",
              "      <td>0.078883</td>\n",
              "      <td>0.102099</td>\n",
              "      <td>0.070408</td>\n",
              "      <td>0.078485</td>\n",
              "      <td>0.070002</td>\n",
              "      <td>0.059404</td>\n",
              "    </tr>\n",
              "    <tr>\n",
              "      <th>std</th>\n",
              "      <td>1889.234413</td>\n",
              "      <td>1311.270031</td>\n",
              "      <td>1486.928587</td>\n",
              "      <td>1258.432257</td>\n",
              "      <td>1250.455530</td>\n",
              "      <td>1034.248602</td>\n",
              "      <td>1134.089032</td>\n",
              "      <td>1107.284447</td>\n",
              "      <td>1125.748255</td>\n",
              "      <td>1004.59801</td>\n",
              "      <td>...</td>\n",
              "      <td>0.053524</td>\n",
              "      <td>0.103901</td>\n",
              "      <td>0.037731</td>\n",
              "      <td>0.057528</td>\n",
              "      <td>0.025469</td>\n",
              "      <td>0.030438</td>\n",
              "      <td>0.020272</td>\n",
              "      <td>0.022191</td>\n",
              "      <td>0.026132</td>\n",
              "      <td>0.018306</td>\n",
              "    </tr>\n",
              "    <tr>\n",
              "      <th>min</th>\n",
              "      <td>0.000000</td>\n",
              "      <td>1.066000</td>\n",
              "      <td>1.066000</td>\n",
              "      <td>1.066000</td>\n",
              "      <td>1.066000</td>\n",
              "      <td>1.066000</td>\n",
              "      <td>1.066000</td>\n",
              "      <td>1.066000</td>\n",
              "      <td>1.066000</td>\n",
              "      <td>1.06600</td>\n",
              "      <td>...</td>\n",
              "      <td>-0.236350</td>\n",
              "      <td>-0.112690</td>\n",
              "      <td>-0.031280</td>\n",
              "      <td>-0.026286</td>\n",
              "      <td>0.003570</td>\n",
              "      <td>0.015833</td>\n",
              "      <td>-0.010660</td>\n",
              "      <td>0.012256</td>\n",
              "      <td>0.010891</td>\n",
              "      <td>0.001152</td>\n",
              "    </tr>\n",
              "    <tr>\n",
              "      <th>25%</th>\n",
              "      <td>1635.750000</td>\n",
              "      <td>2105.900000</td>\n",
              "      <td>3310.025000</td>\n",
              "      <td>3062.025000</td>\n",
              "      <td>3092.800000</td>\n",
              "      <td>2324.450000</td>\n",
              "      <td>2486.650000</td>\n",
              "      <td>2226.400000</td>\n",
              "      <td>2188.275000</td>\n",
              "      <td>1894.77500</td>\n",
              "      <td>...</td>\n",
              "      <td>0.112285</td>\n",
              "      <td>0.147525</td>\n",
              "      <td>0.069917</td>\n",
              "      <td>0.108408</td>\n",
              "      <td>0.061924</td>\n",
              "      <td>0.080391</td>\n",
              "      <td>0.056767</td>\n",
              "      <td>0.062885</td>\n",
              "      <td>0.051215</td>\n",
              "      <td>0.046886</td>\n",
              "    </tr>\n",
              "    <tr>\n",
              "      <th>50%</th>\n",
              "      <td>3271.500000</td>\n",
              "      <td>3090.150000</td>\n",
              "      <td>4327.800000</td>\n",
              "      <td>3922.100000</td>\n",
              "      <td>3924.350000</td>\n",
              "      <td>3009.050000</td>\n",
              "      <td>3210.000000</td>\n",
              "      <td>2925.000000</td>\n",
              "      <td>2903.350000</td>\n",
              "      <td>2546.55000</td>\n",
              "      <td>...</td>\n",
              "      <td>0.144455</td>\n",
              "      <td>0.225970</td>\n",
              "      <td>0.095175</td>\n",
              "      <td>0.146200</td>\n",
              "      <td>0.076156</td>\n",
              "      <td>0.100175</td>\n",
              "      <td>0.068897</td>\n",
              "      <td>0.077103</td>\n",
              "      <td>0.065160</td>\n",
              "      <td>0.057507</td>\n",
              "    </tr>\n",
              "    <tr>\n",
              "      <th>75%</th>\n",
              "      <td>4907.250000</td>\n",
              "      <td>3920.275000</td>\n",
              "      <td>5376.300000</td>\n",
              "      <td>4769.700000</td>\n",
              "      <td>4776.475000</td>\n",
              "      <td>3717.600000</td>\n",
              "      <td>3979.650000</td>\n",
              "      <td>3704.800000</td>\n",
              "      <td>3700.300000</td>\n",
              "      <td>3246.82500</td>\n",
              "      <td>...</td>\n",
              "      <td>0.180120</td>\n",
              "      <td>0.326053</td>\n",
              "      <td>0.120692</td>\n",
              "      <td>0.187967</td>\n",
              "      <td>0.092706</td>\n",
              "      <td>0.121443</td>\n",
              "      <td>0.083066</td>\n",
              "      <td>0.092811</td>\n",
              "      <td>0.083820</td>\n",
              "      <td>0.069989</td>\n",
              "    </tr>\n",
              "    <tr>\n",
              "      <th>max</th>\n",
              "      <td>6543.000000</td>\n",
              "      <td>9564.200000</td>\n",
              "      <td>9898.400000</td>\n",
              "      <td>9965.800000</td>\n",
              "      <td>8971.100000</td>\n",
              "      <td>7325.800000</td>\n",
              "      <td>8842.900000</td>\n",
              "      <td>8168.200000</td>\n",
              "      <td>8045.700000</td>\n",
              "      <td>8034.10000</td>\n",
              "      <td>...</td>\n",
              "      <td>0.379690</td>\n",
              "      <td>0.477750</td>\n",
              "      <td>0.317330</td>\n",
              "      <td>0.348470</td>\n",
              "      <td>0.259880</td>\n",
              "      <td>0.242150</td>\n",
              "      <td>0.178320</td>\n",
              "      <td>0.187250</td>\n",
              "      <td>0.180480</td>\n",
              "      <td>0.172850</td>\n",
              "    </tr>\n",
              "  </tbody>\n",
              "</table>\n",
              "<p>8 rows × 265 columns</p>\n",
              "</div>"
            ],
            "text/plain": [
              "                id     r_1_mean     r_2_mean     r_3_mean     r_4_mean  \\\n",
              "count  6544.000000  6544.000000  6544.000000  6544.000000  6544.000000   \n",
              "mean   3271.500000  3058.037015  4355.873590  3932.126318  3951.374646   \n",
              "std    1889.234413  1311.270031  1486.928587  1258.432257  1250.455530   \n",
              "min       0.000000     1.066000     1.066000     1.066000     1.066000   \n",
              "25%    1635.750000  2105.900000  3310.025000  3062.025000  3092.800000   \n",
              "50%    3271.500000  3090.150000  4327.800000  3922.100000  3924.350000   \n",
              "75%    4907.250000  3920.275000  5376.300000  4769.700000  4776.475000   \n",
              "max    6543.000000  9564.200000  9898.400000  9965.800000  8971.100000   \n",
              "\n",
              "          r_5_mean     r_6_mean     r_7_mean     r_8_mean    r_9_mean  \\\n",
              "count  6544.000000  6544.000000  6544.000000  6544.000000  6544.00000   \n",
              "mean   3047.596245  3274.043362  3001.383570  2985.446799  2611.92090   \n",
              "std    1034.248602  1134.089032  1107.284447  1125.748255  1004.59801   \n",
              "min       1.066000     1.066000     1.066000     1.066000     1.06600   \n",
              "25%    2324.450000  2486.650000  2226.400000  2188.275000  1894.77500   \n",
              "50%    3009.050000  3210.000000  2925.000000  2903.350000  2546.55000   \n",
              "75%    3717.600000  3979.650000  3704.800000  3700.300000  3246.82500   \n",
              "max    7325.800000  8842.900000  8168.200000  8045.700000  8034.10000   \n",
              "\n",
              "          ...           m_3_max      m_4_max      m_5_max      m_6_max  \\\n",
              "count     ...       6544.000000  6544.000000  6544.000000  6544.000000   \n",
              "mean      ...          0.149118     0.235902     0.098636     0.149432   \n",
              "std       ...          0.053524     0.103901     0.037731     0.057528   \n",
              "min       ...         -0.236350    -0.112690    -0.031280    -0.026286   \n",
              "25%       ...          0.112285     0.147525     0.069917     0.108408   \n",
              "50%       ...          0.144455     0.225970     0.095175     0.146200   \n",
              "75%       ...          0.180120     0.326053     0.120692     0.187967   \n",
              "max       ...          0.379690     0.477750     0.317330     0.348470   \n",
              "\n",
              "           m_7_max      m_8_max      m_9_max     m_10_max     m_11_max  \\\n",
              "count  6544.000000  6544.000000  6544.000000  6544.000000  6544.000000   \n",
              "mean      0.078883     0.102099     0.070408     0.078485     0.070002   \n",
              "std       0.025469     0.030438     0.020272     0.022191     0.026132   \n",
              "min       0.003570     0.015833    -0.010660     0.012256     0.010891   \n",
              "25%       0.061924     0.080391     0.056767     0.062885     0.051215   \n",
              "50%       0.076156     0.100175     0.068897     0.077103     0.065160   \n",
              "75%       0.092706     0.121443     0.083066     0.092811     0.083820   \n",
              "max       0.259880     0.242150     0.178320     0.187250     0.180480   \n",
              "\n",
              "          m_12_max  \n",
              "count  6544.000000  \n",
              "mean      0.059404  \n",
              "std       0.018306  \n",
              "min       0.001152  \n",
              "25%       0.046886  \n",
              "50%       0.057507  \n",
              "75%       0.069989  \n",
              "max       0.172850  \n",
              "\n",
              "[8 rows x 265 columns]"
            ]
          },
          "metadata": {
            "tags": []
          },
          "execution_count": 16
        }
      ]
    },
    {
      "metadata": {
        "id": "m0QfuMXyRIaI",
        "colab_type": "code",
        "colab": {
          "base_uri": "https://localhost:8080/",
          "height": 251
        },
        "outputId": "3e3e948c-245e-4623-bcd8-e9b4fba398ea"
      },
      "cell_type": "code",
      "source": [
        "test_df.head()"
      ],
      "execution_count": 17,
      "outputs": [
        {
          "output_type": "execute_result",
          "data": {
            "text/html": [
              "<div>\n",
              "<style scoped>\n",
              "    .dataframe tbody tr th:only-of-type {\n",
              "        vertical-align: middle;\n",
              "    }\n",
              "\n",
              "    .dataframe tbody tr th {\n",
              "        vertical-align: top;\n",
              "    }\n",
              "\n",
              "    .dataframe thead th {\n",
              "        text-align: right;\n",
              "    }\n",
              "</style>\n",
              "<table border=\"1\" class=\"dataframe\">\n",
              "  <thead>\n",
              "    <tr style=\"text-align: right;\">\n",
              "      <th></th>\n",
              "      <th>id</th>\n",
              "      <th>r_1_mean</th>\n",
              "      <th>r_2_mean</th>\n",
              "      <th>r_3_mean</th>\n",
              "      <th>r_4_mean</th>\n",
              "      <th>r_5_mean</th>\n",
              "      <th>r_6_mean</th>\n",
              "      <th>r_7_mean</th>\n",
              "      <th>r_8_mean</th>\n",
              "      <th>r_9_mean</th>\n",
              "      <th>...</th>\n",
              "      <th>m_3_max</th>\n",
              "      <th>m_4_max</th>\n",
              "      <th>m_5_max</th>\n",
              "      <th>m_6_max</th>\n",
              "      <th>m_7_max</th>\n",
              "      <th>m_8_max</th>\n",
              "      <th>m_9_max</th>\n",
              "      <th>m_10_max</th>\n",
              "      <th>m_11_max</th>\n",
              "      <th>m_12_max</th>\n",
              "    </tr>\n",
              "  </thead>\n",
              "  <tbody>\n",
              "    <tr>\n",
              "      <th>0</th>\n",
              "      <td>0</td>\n",
              "      <td>3115.5</td>\n",
              "      <td>3151.9</td>\n",
              "      <td>2742.2</td>\n",
              "      <td>3236.8</td>\n",
              "      <td>2580.6</td>\n",
              "      <td>2662.6</td>\n",
              "      <td>2372.2</td>\n",
              "      <td>2569.6</td>\n",
              "      <td>2310.7</td>\n",
              "      <td>...</td>\n",
              "      <td>0.202000</td>\n",
              "      <td>0.27811</td>\n",
              "      <td>0.138290</td>\n",
              "      <td>0.16759</td>\n",
              "      <td>0.106690</td>\n",
              "      <td>0.135000</td>\n",
              "      <td>0.087223</td>\n",
              "      <td>0.115030</td>\n",
              "      <td>0.074181</td>\n",
              "      <td>0.082354</td>\n",
              "    </tr>\n",
              "    <tr>\n",
              "      <th>1</th>\n",
              "      <td>1</td>\n",
              "      <td>2055.0</td>\n",
              "      <td>3225.7</td>\n",
              "      <td>2273.5</td>\n",
              "      <td>3601.9</td>\n",
              "      <td>1959.3</td>\n",
              "      <td>2212.3</td>\n",
              "      <td>1720.4</td>\n",
              "      <td>1640.4</td>\n",
              "      <td>1157.1</td>\n",
              "      <td>...</td>\n",
              "      <td>0.095165</td>\n",
              "      <td>0.17908</td>\n",
              "      <td>0.134300</td>\n",
              "      <td>0.14612</td>\n",
              "      <td>0.062988</td>\n",
              "      <td>0.113780</td>\n",
              "      <td>0.076223</td>\n",
              "      <td>0.105320</td>\n",
              "      <td>0.104750</td>\n",
              "      <td>0.067400</td>\n",
              "    </tr>\n",
              "    <tr>\n",
              "      <th>2</th>\n",
              "      <td>2</td>\n",
              "      <td>1601.2</td>\n",
              "      <td>3768.1</td>\n",
              "      <td>3591.0</td>\n",
              "      <td>3452.4</td>\n",
              "      <td>2935.9</td>\n",
              "      <td>2913.4</td>\n",
              "      <td>2479.6</td>\n",
              "      <td>2108.8</td>\n",
              "      <td>1823.8</td>\n",
              "      <td>...</td>\n",
              "      <td>0.114550</td>\n",
              "      <td>0.30952</td>\n",
              "      <td>0.096229</td>\n",
              "      <td>0.10636</td>\n",
              "      <td>0.037123</td>\n",
              "      <td>0.085613</td>\n",
              "      <td>0.051728</td>\n",
              "      <td>0.074393</td>\n",
              "      <td>0.047407</td>\n",
              "      <td>0.043231</td>\n",
              "    </tr>\n",
              "    <tr>\n",
              "      <th>3</th>\n",
              "      <td>3</td>\n",
              "      <td>2745.0</td>\n",
              "      <td>4585.8</td>\n",
              "      <td>4246.0</td>\n",
              "      <td>3937.6</td>\n",
              "      <td>3423.9</td>\n",
              "      <td>4108.2</td>\n",
              "      <td>3096.5</td>\n",
              "      <td>3469.6</td>\n",
              "      <td>3002.5</td>\n",
              "      <td>...</td>\n",
              "      <td>0.112300</td>\n",
              "      <td>0.42906</td>\n",
              "      <td>0.057022</td>\n",
              "      <td>0.16610</td>\n",
              "      <td>0.057594</td>\n",
              "      <td>0.127360</td>\n",
              "      <td>0.017878</td>\n",
              "      <td>0.075741</td>\n",
              "      <td>0.092060</td>\n",
              "      <td>0.028369</td>\n",
              "    </tr>\n",
              "    <tr>\n",
              "      <th>4</th>\n",
              "      <td>4</td>\n",
              "      <td>1515.0</td>\n",
              "      <td>2403.5</td>\n",
              "      <td>2461.6</td>\n",
              "      <td>2399.1</td>\n",
              "      <td>1999.4</td>\n",
              "      <td>2195.8</td>\n",
              "      <td>2123.0</td>\n",
              "      <td>2030.7</td>\n",
              "      <td>1737.4</td>\n",
              "      <td>...</td>\n",
              "      <td>0.098629</td>\n",
              "      <td>0.27692</td>\n",
              "      <td>0.057491</td>\n",
              "      <td>0.24435</td>\n",
              "      <td>0.039830</td>\n",
              "      <td>0.050223</td>\n",
              "      <td>0.045778</td>\n",
              "      <td>0.078015</td>\n",
              "      <td>0.067199</td>\n",
              "      <td>0.043448</td>\n",
              "    </tr>\n",
              "  </tbody>\n",
              "</table>\n",
              "<p>5 rows × 265 columns</p>\n",
              "</div>"
            ],
            "text/plain": [
              "   id  r_1_mean  r_2_mean  r_3_mean  r_4_mean  r_5_mean  r_6_mean  r_7_mean  \\\n",
              "0   0    3115.5    3151.9    2742.2    3236.8    2580.6    2662.6    2372.2   \n",
              "1   1    2055.0    3225.7    2273.5    3601.9    1959.3    2212.3    1720.4   \n",
              "2   2    1601.2    3768.1    3591.0    3452.4    2935.9    2913.4    2479.6   \n",
              "3   3    2745.0    4585.8    4246.0    3937.6    3423.9    4108.2    3096.5   \n",
              "4   4    1515.0    2403.5    2461.6    2399.1    1999.4    2195.8    2123.0   \n",
              "\n",
              "   r_8_mean  r_9_mean    ...      m_3_max  m_4_max   m_5_max  m_6_max  \\\n",
              "0    2569.6    2310.7    ...     0.202000  0.27811  0.138290  0.16759   \n",
              "1    1640.4    1157.1    ...     0.095165  0.17908  0.134300  0.14612   \n",
              "2    2108.8    1823.8    ...     0.114550  0.30952  0.096229  0.10636   \n",
              "3    3469.6    3002.5    ...     0.112300  0.42906  0.057022  0.16610   \n",
              "4    2030.7    1737.4    ...     0.098629  0.27692  0.057491  0.24435   \n",
              "\n",
              "    m_7_max   m_8_max   m_9_max  m_10_max  m_11_max  m_12_max  \n",
              "0  0.106690  0.135000  0.087223  0.115030  0.074181  0.082354  \n",
              "1  0.062988  0.113780  0.076223  0.105320  0.104750  0.067400  \n",
              "2  0.037123  0.085613  0.051728  0.074393  0.047407  0.043231  \n",
              "3  0.057594  0.127360  0.017878  0.075741  0.092060  0.028369  \n",
              "4  0.039830  0.050223  0.045778  0.078015  0.067199  0.043448  \n",
              "\n",
              "[5 rows x 265 columns]"
            ]
          },
          "metadata": {
            "tags": []
          },
          "execution_count": 17
        }
      ]
    },
    {
      "metadata": {
        "id": "LAQmUmHpUSGc",
        "colab_type": "code",
        "colab": {
          "base_uri": "https://localhost:8080/",
          "height": 251
        },
        "outputId": "f06643d1-1a6d-4ec6-f624-f43d268688c1"
      },
      "cell_type": "code",
      "source": [
        "test_df.tail()"
      ],
      "execution_count": 18,
      "outputs": [
        {
          "output_type": "execute_result",
          "data": {
            "text/html": [
              "<div>\n",
              "<style scoped>\n",
              "    .dataframe tbody tr th:only-of-type {\n",
              "        vertical-align: middle;\n",
              "    }\n",
              "\n",
              "    .dataframe tbody tr th {\n",
              "        vertical-align: top;\n",
              "    }\n",
              "\n",
              "    .dataframe thead th {\n",
              "        text-align: right;\n",
              "    }\n",
              "</style>\n",
              "<table border=\"1\" class=\"dataframe\">\n",
              "  <thead>\n",
              "    <tr style=\"text-align: right;\">\n",
              "      <th></th>\n",
              "      <th>id</th>\n",
              "      <th>r_1_mean</th>\n",
              "      <th>r_2_mean</th>\n",
              "      <th>r_3_mean</th>\n",
              "      <th>r_4_mean</th>\n",
              "      <th>r_5_mean</th>\n",
              "      <th>r_6_mean</th>\n",
              "      <th>r_7_mean</th>\n",
              "      <th>r_8_mean</th>\n",
              "      <th>r_9_mean</th>\n",
              "      <th>...</th>\n",
              "      <th>m_3_max</th>\n",
              "      <th>m_4_max</th>\n",
              "      <th>m_5_max</th>\n",
              "      <th>m_6_max</th>\n",
              "      <th>m_7_max</th>\n",
              "      <th>m_8_max</th>\n",
              "      <th>m_9_max</th>\n",
              "      <th>m_10_max</th>\n",
              "      <th>m_11_max</th>\n",
              "      <th>m_12_max</th>\n",
              "    </tr>\n",
              "  </thead>\n",
              "  <tbody>\n",
              "    <tr>\n",
              "      <th>6539</th>\n",
              "      <td>6539</td>\n",
              "      <td>5458.1</td>\n",
              "      <td>3816.1</td>\n",
              "      <td>2762.7</td>\n",
              "      <td>2198.3</td>\n",
              "      <td>1591.3</td>\n",
              "      <td>1135.3</td>\n",
              "      <td>758.03</td>\n",
              "      <td>1031.9</td>\n",
              "      <td>815.45</td>\n",
              "      <td>...</td>\n",
              "      <td>0.077645</td>\n",
              "      <td>0.21367</td>\n",
              "      <td>0.075442</td>\n",
              "      <td>0.079000</td>\n",
              "      <td>0.127220</td>\n",
              "      <td>0.099362</td>\n",
              "      <td>0.073899</td>\n",
              "      <td>0.040763</td>\n",
              "      <td>0.051660</td>\n",
              "      <td>0.064701</td>\n",
              "    </tr>\n",
              "    <tr>\n",
              "      <th>6540</th>\n",
              "      <td>6540</td>\n",
              "      <td>1597.6</td>\n",
              "      <td>2797.1</td>\n",
              "      <td>2198.8</td>\n",
              "      <td>1969.8</td>\n",
              "      <td>1889.4</td>\n",
              "      <td>2328.2</td>\n",
              "      <td>2289.20</td>\n",
              "      <td>2466.7</td>\n",
              "      <td>2086.00</td>\n",
              "      <td>...</td>\n",
              "      <td>0.266810</td>\n",
              "      <td>0.35590</td>\n",
              "      <td>0.131760</td>\n",
              "      <td>0.086360</td>\n",
              "      <td>0.078558</td>\n",
              "      <td>0.122500</td>\n",
              "      <td>0.060723</td>\n",
              "      <td>0.078580</td>\n",
              "      <td>0.027565</td>\n",
              "      <td>0.061399</td>\n",
              "    </tr>\n",
              "    <tr>\n",
              "      <th>6541</th>\n",
              "      <td>6541</td>\n",
              "      <td>1372.0</td>\n",
              "      <td>2186.0</td>\n",
              "      <td>1860.4</td>\n",
              "      <td>1932.1</td>\n",
              "      <td>1470.7</td>\n",
              "      <td>2403.0</td>\n",
              "      <td>2242.60</td>\n",
              "      <td>2227.6</td>\n",
              "      <td>2006.00</td>\n",
              "      <td>...</td>\n",
              "      <td>0.228130</td>\n",
              "      <td>0.23255</td>\n",
              "      <td>0.112530</td>\n",
              "      <td>0.074153</td>\n",
              "      <td>0.080115</td>\n",
              "      <td>0.055913</td>\n",
              "      <td>0.053767</td>\n",
              "      <td>0.052231</td>\n",
              "      <td>0.048352</td>\n",
              "      <td>0.036212</td>\n",
              "    </tr>\n",
              "    <tr>\n",
              "      <th>6542</th>\n",
              "      <td>6542</td>\n",
              "      <td>3921.2</td>\n",
              "      <td>4255.6</td>\n",
              "      <td>3193.0</td>\n",
              "      <td>4426.2</td>\n",
              "      <td>2868.7</td>\n",
              "      <td>3070.7</td>\n",
              "      <td>2640.00</td>\n",
              "      <td>2507.3</td>\n",
              "      <td>2229.40</td>\n",
              "      <td>...</td>\n",
              "      <td>0.108820</td>\n",
              "      <td>0.33653</td>\n",
              "      <td>0.096614</td>\n",
              "      <td>0.092141</td>\n",
              "      <td>0.074061</td>\n",
              "      <td>0.126560</td>\n",
              "      <td>0.058021</td>\n",
              "      <td>0.082832</td>\n",
              "      <td>0.076089</td>\n",
              "      <td>0.055648</td>\n",
              "    </tr>\n",
              "    <tr>\n",
              "      <th>6543</th>\n",
              "      <td>6543</td>\n",
              "      <td>1989.6</td>\n",
              "      <td>3771.4</td>\n",
              "      <td>3394.6</td>\n",
              "      <td>2957.2</td>\n",
              "      <td>2375.6</td>\n",
              "      <td>2747.8</td>\n",
              "      <td>2891.20</td>\n",
              "      <td>2420.2</td>\n",
              "      <td>2391.20</td>\n",
              "      <td>...</td>\n",
              "      <td>0.124550</td>\n",
              "      <td>0.11777</td>\n",
              "      <td>0.114480</td>\n",
              "      <td>0.189340</td>\n",
              "      <td>0.086654</td>\n",
              "      <td>0.104110</td>\n",
              "      <td>0.041426</td>\n",
              "      <td>0.071077</td>\n",
              "      <td>0.050447</td>\n",
              "      <td>0.059275</td>\n",
              "    </tr>\n",
              "  </tbody>\n",
              "</table>\n",
              "<p>5 rows × 265 columns</p>\n",
              "</div>"
            ],
            "text/plain": [
              "        id  r_1_mean  r_2_mean  r_3_mean  r_4_mean  r_5_mean  r_6_mean  \\\n",
              "6539  6539    5458.1    3816.1    2762.7    2198.3    1591.3    1135.3   \n",
              "6540  6540    1597.6    2797.1    2198.8    1969.8    1889.4    2328.2   \n",
              "6541  6541    1372.0    2186.0    1860.4    1932.1    1470.7    2403.0   \n",
              "6542  6542    3921.2    4255.6    3193.0    4426.2    2868.7    3070.7   \n",
              "6543  6543    1989.6    3771.4    3394.6    2957.2    2375.6    2747.8   \n",
              "\n",
              "      r_7_mean  r_8_mean  r_9_mean    ...      m_3_max  m_4_max   m_5_max  \\\n",
              "6539    758.03    1031.9    815.45    ...     0.077645  0.21367  0.075442   \n",
              "6540   2289.20    2466.7   2086.00    ...     0.266810  0.35590  0.131760   \n",
              "6541   2242.60    2227.6   2006.00    ...     0.228130  0.23255  0.112530   \n",
              "6542   2640.00    2507.3   2229.40    ...     0.108820  0.33653  0.096614   \n",
              "6543   2891.20    2420.2   2391.20    ...     0.124550  0.11777  0.114480   \n",
              "\n",
              "       m_6_max   m_7_max   m_8_max   m_9_max  m_10_max  m_11_max  m_12_max  \n",
              "6539  0.079000  0.127220  0.099362  0.073899  0.040763  0.051660  0.064701  \n",
              "6540  0.086360  0.078558  0.122500  0.060723  0.078580  0.027565  0.061399  \n",
              "6541  0.074153  0.080115  0.055913  0.053767  0.052231  0.048352  0.036212  \n",
              "6542  0.092141  0.074061  0.126560  0.058021  0.082832  0.076089  0.055648  \n",
              "6543  0.189340  0.086654  0.104110  0.041426  0.071077  0.050447  0.059275  \n",
              "\n",
              "[5 rows x 265 columns]"
            ]
          },
          "metadata": {
            "tags": []
          },
          "execution_count": 18
        }
      ]
    },
    {
      "metadata": {
        "id": "qhpTL8gBpgS0",
        "colab_type": "text"
      },
      "cell_type": "markdown",
      "source": [
        "**The meanings of labels:**\n",
        "1.  'Pop_Rock'\n",
        "2.  'Electronic'\n",
        "3.  'Rap'\n",
        "4.  'Jazz'\n",
        "5.  'Latin'\n",
        "6.  'RnB'\n",
        "7.  'International'\n",
        "8.  'Country'\n",
        "9.  'Reggae'\n",
        "10. 'Blues'"
      ]
    },
    {
      "metadata": {
        "id": "lTjLcvgMl7Pc",
        "colab_type": "code",
        "colab": {
          "base_uri": "https://localhost:8080/",
          "height": 35
        },
        "outputId": "5628e898-97d6-4339-d02e-89011cc43c56"
      },
      "cell_type": "code",
      "source": [
        "# Count frequency of labels 1 to 10 in training dataset\n",
        "\n",
        "# Almost as good as a histogram haha!\n",
        "\n",
        "matrix_train_labels = train_labels.as_matrix()\n",
        "#print(matrix_train_labels[:,1])\n",
        "\n",
        "frequencies = []\n",
        "for value in range(1, max(matrix_train_labels[:,1])+1):\n",
        "  frequency = (matrix_train_labels[:,1]==value).sum()\n",
        "  frequencies.append(frequency)\n",
        "  \n",
        "print(frequencies)\n"
      ],
      "execution_count": 19,
      "outputs": [
        {
          "output_type": "stream",
          "text": [
            "[2178, 618, 326, 253, 214, 260, 141, 195, 92, 86]\n"
          ],
          "name": "stdout"
        }
      ]
    },
    {
      "metadata": {
        "id": "Y7uL45xHlXFc",
        "colab_type": "code",
        "colab": {}
      },
      "cell_type": "code",
      "source": [
        "from random import sample"
      ],
      "execution_count": 0,
      "outputs": []
    },
    {
      "metadata": {
        "id": "bZiYdaAjlAbC",
        "colab_type": "code",
        "colab": {}
      },
      "cell_type": "code",
      "source": [
        "def split_data(data, percentage = 0.8):\n",
        "  import numpy as np\n",
        "  l = len(data) #length of data \n",
        "  f = round(percentage * l)  #number of elements you need\n",
        "  indices = sample(range(l), f)\n",
        "  \n",
        "  train_data = data.iloc[indices]\n",
        "  test_data = data.drop(data.index[indices])\n",
        "  \n",
        "  return train_data, test_data"
      ],
      "execution_count": 0,
      "outputs": []
    },
    {
      "metadata": {
        "id": "6UTlgdcemCxS",
        "colab_type": "code",
        "colab": {}
      },
      "cell_type": "code",
      "source": [
        "local_train_df, local_test_df = split_data(data = train_df)"
      ],
      "execution_count": 0,
      "outputs": []
    },
    {
      "metadata": {
        "id": "HnbPcZ27ig6S",
        "colab_type": "code",
        "colab": {
          "base_uri": "https://localhost:8080/",
          "height": 52
        },
        "outputId": "8c056a57-f8aa-4c97-f9d4-245d8ef5f1af"
      },
      "cell_type": "code",
      "source": [
        "print(local_train_df.shape)\n",
        "print(local_test_df.shape)"
      ],
      "execution_count": 56,
      "outputs": [
        {
          "output_type": "stream",
          "text": [
            "(3490, 265)\n",
            "(873, 265)\n"
          ],
          "name": "stdout"
        }
      ]
    },
    {
      "metadata": {
        "id": "k4e9irMnig6g",
        "colab_type": "text"
      },
      "cell_type": "markdown",
      "source": [
        "## 3. Methods and experiments"
      ]
    },
    {
      "metadata": {
        "id": "RC9c507lig6k",
        "colab_type": "text"
      },
      "cell_type": "markdown",
      "source": [
        "*- Explain your whole approach (you can include a block diagram showing the steps in your process).* \n",
        "\n",
        "*- What methods/algorithms, why were the methods chosen. *\n",
        "\n",
        "*- What evaluation methodology (cross CV, etc.).*\n",
        "\n"
      ]
    },
    {
      "metadata": {
        "id": "S-aJiO1Tig6o",
        "colab_type": "code",
        "colab": {}
      },
      "cell_type": "code",
      "source": [
        "# Trying the logistic regression\n",
        "import sklearn.linear_model as lm"
      ],
      "execution_count": 0,
      "outputs": []
    },
    {
      "metadata": {
        "id": "Lhgn6duVa4AM",
        "colab_type": "code",
        "colab": {
          "base_uri": "https://localhost:8080/",
          "height": 87
        },
        "outputId": "c74b8d4b-309b-4e59-b802-44cd877c9122"
      },
      "cell_type": "code",
      "source": [
        "lr = lm.LogisticRegression()\n",
        "lr.fit(X=train_df, y=train_labels['gt'])"
      ],
      "execution_count": 22,
      "outputs": [
        {
          "output_type": "execute_result",
          "data": {
            "text/plain": [
              "LogisticRegression(C=1.0, class_weight=None, dual=False, fit_intercept=True,\n",
              "          intercept_scaling=1, max_iter=100, multi_class='ovr', n_jobs=1,\n",
              "          penalty='l2', random_state=None, solver='liblinear', tol=0.0001,\n",
              "          verbose=0, warm_start=False)"
            ]
          },
          "metadata": {
            "tags": []
          },
          "execution_count": 22
        }
      ]
    },
    {
      "metadata": {
        "id": "XkAbq5yMcIEU",
        "colab_type": "code",
        "colab": {}
      },
      "cell_type": "code",
      "source": [
        "y_pred = lr.predict(test_df)"
      ],
      "execution_count": 0,
      "outputs": []
    },
    {
      "metadata": {
        "id": "GDaEHud7c0uR",
        "colab_type": "code",
        "colab": {}
      },
      "cell_type": "code",
      "source": [
        "submission = np.vstack((np.array(range(1, len(y_pred)+1)), y_pred))\n",
        "submission_df = pd.DataFrame(submission.transpose(), columns=['Sample_id', 'Sample_label'])\n",
        "submission_df.to_csv('submission.csv', index=False)"
      ],
      "execution_count": 0,
      "outputs": []
    },
    {
      "metadata": {
        "id": "ZqUaGjTc8Khc",
        "colab_type": "code",
        "colab": {}
      },
      "cell_type": "code",
      "source": [
        "#definition of function that creates submission file for accuracy competition\n",
        "def create_submission_accuracy(y_pred, filename):\n",
        "  submission = np.vstack((np.array(range(1, len(y_pred)+1)), y_pred))\n",
        "  submission_df = pd.DataFrame(submission.transpose(), columns=['Sample_id', 'Sample_label'])\n",
        "  submission_df.to_csv(filename, index=False)"
      ],
      "execution_count": 0,
      "outputs": []
    },
    {
      "metadata": {
        "id": "u61pRuSBws0n",
        "colab_type": "code",
        "colab": {
          "base_uri": "https://localhost:8080/",
          "height": 124
        },
        "outputId": "59e195ae-30c4-4a34-f33f-1280c4c7da83"
      },
      "cell_type": "code",
      "source": [
        "#we should also try out feature selection which is different from dimensionality reduction\n",
        "#dimensionality reduction creates new combinations of attributes while feature selection includes \n",
        "#only selected attributes without changing them\n",
        "\n",
        "#feature selection with univariate selection\n",
        "from sklearn.feature_selection import SelectKBest, SelectPercentile\n",
        "from sklearn.feature_selection import chi2, f_classif\n",
        "\n",
        "#chi2 test does not work as it only can handle positive values \n",
        "#therefore choose another score function\n",
        "\n",
        "#test = SelectKBest(score_func=chi2, k=4)\n",
        "#fit = test.fit(train_df, train_labels[\"gt\"])\n",
        "#features = fit.transform(train_df)\n",
        "\n",
        "selector = SelectPercentile(f_classif, percentile=10)\n",
        "selected_feature_dataset = selector.fit_transform(train_df, train_labels[\"gt\"])\n",
        "print(\"shape of selected dataset: \", selected_feature_dataset.shape)\n",
        "\n",
        "#TODO: implement all these selection / dimensionality reduction algorithms as functions"
      ],
      "execution_count": 27,
      "outputs": [
        {
          "output_type": "stream",
          "text": [
            "shape of selected dataset:  (4363, 27)\n"
          ],
          "name": "stdout"
        },
        {
          "output_type": "stream",
          "text": [
            "/usr/local/lib/python3.6/dist-packages/sklearn/feature_selection/univariate_selection.py:113: UserWarning: Features [217 218 219 220] are constant.\n",
            "  UserWarning)\n",
            "/usr/local/lib/python3.6/dist-packages/sklearn/feature_selection/univariate_selection.py:114: RuntimeWarning: invalid value encountered in true_divide\n",
            "  f = msb / msw\n"
          ],
          "name": "stderr"
        }
      ]
    },
    {
      "metadata": {
        "id": "L19sCR4UzEQ9",
        "colab_type": "code",
        "colab": {}
      },
      "cell_type": "code",
      "source": [
        "#feature selection with recursive feature elimination"
      ],
      "execution_count": 0,
      "outputs": []
    },
    {
      "metadata": {
        "id": "ePuXc6MC54fO",
        "colab_type": "code",
        "colab": {}
      },
      "cell_type": "code",
      "source": [
        "#function definition of PCA to reduce dimensionality - should capture at least 95% of variance\n",
        "def reduce_dimension(dataset):\n",
        "  pca095 = PCA(n_components = 0.95)\n",
        "  reduced_data = pca095.fit_transform(dataset)\n",
        "  return reduced_data;"
      ],
      "execution_count": 0,
      "outputs": []
    },
    {
      "metadata": {
        "id": "vb_9r_0k-vaT",
        "colab_type": "code",
        "colab": {}
      },
      "cell_type": "code",
      "source": [
        "#function PCA to 15 features - was needed to transform the train_df also to 15 features as reduce_dimension's output\n",
        "#for train_df was with 15 features\n",
        "def reduce_dimension_15(dataset):\n",
        "  pca15 = PCA(n_components = 15)\n",
        "  reduced_data = pca15.fit_transform(dataset)\n",
        "  return reduced_data;"
      ],
      "execution_count": 0,
      "outputs": []
    },
    {
      "metadata": {
        "id": "AW3Y-B1O6ao9",
        "colab_type": "code",
        "colab": {
          "base_uri": "https://localhost:8080/",
          "height": 87
        },
        "outputId": "e890691b-6773-4011-de3a-1e5e8f886314"
      },
      "cell_type": "code",
      "source": [
        "#try logistic regression with reduced dimensionality\n",
        "lr_red = lm.LogisticRegression()\n",
        "lr_red.fit(X=reduce_dimension(train_df), y=train_labels['gt'])"
      ],
      "execution_count": 31,
      "outputs": [
        {
          "output_type": "execute_result",
          "data": {
            "text/plain": [
              "LogisticRegression(C=1.0, class_weight=None, dual=False, fit_intercept=True,\n",
              "          intercept_scaling=1, max_iter=100, multi_class='ovr', n_jobs=1,\n",
              "          penalty='l2', random_state=None, solver='liblinear', tol=0.0001,\n",
              "          verbose=0, warm_start=False)"
            ]
          },
          "metadata": {
            "tags": []
          },
          "execution_count": 31
        }
      ]
    },
    {
      "metadata": {
        "id": "Gn_oCzqZ6xQv",
        "colab_type": "code",
        "colab": {}
      },
      "cell_type": "code",
      "source": [
        "y_pred_red = lr_red.predict(reduce_dimension_15(test_df))\n"
      ],
      "execution_count": 0,
      "outputs": []
    },
    {
      "metadata": {
        "id": "hXuYI1Oh66RC",
        "colab_type": "code",
        "colab": {}
      },
      "cell_type": "code",
      "source": [
        "submission = np.vstack((np.array(range(1, len(y_pred_red)+1)), y_pred_red))\n",
        "submission_df = pd.DataFrame(submission.transpose(), columns=['Sample_id', 'Sample_label'])\n",
        "submission_df.to_csv('submission_red_new.csv', index=False)"
      ],
      "execution_count": 0,
      "outputs": []
    },
    {
      "metadata": {
        "id": "eUSUzfKfig61",
        "colab_type": "text"
      },
      "cell_type": "markdown",
      "source": [
        "## 4. Results"
      ]
    },
    {
      "metadata": {
        "id": "YsvPyGZkig63",
        "colab_type": "text"
      },
      "cell_type": "markdown",
      "source": [
        "*Summarize the results of the experiments without discussing their implications.*\n",
        "\n",
        "*- Include both performance measures (accuracy and LogLoss).*\n",
        "\n",
        "*- How does it perform on kaggle compared to the train data.*\n",
        "\n",
        "*- Include a confusion matrix.*\n",
        "\n"
      ]
    },
    {
      "metadata": {
        "id": "ot3yKTpMig66",
        "colab_type": "code",
        "colab": {}
      },
      "cell_type": "code",
      "source": [
        "#Confusion matrix ..."
      ],
      "execution_count": 0,
      "outputs": []
    },
    {
      "metadata": {
        "id": "pWGfCeOPig7C",
        "colab_type": "text"
      },
      "cell_type": "markdown",
      "source": [
        "## 5. Discussion/Conclusions"
      ]
    },
    {
      "metadata": {
        "id": "rXgsk64oig7E",
        "colab_type": "text"
      },
      "cell_type": "markdown",
      "source": [
        "*Interpret and explain your results *\n",
        "\n",
        "*- Discuss the relevance of the performance measures (accuracy and LogLoss) for\n",
        "imbalanced multiclass datasets. *\n",
        "\n",
        "*- How the results relate to the literature. *\n",
        "\n",
        "*- Suggestions for future research/improvement. *\n",
        "\n",
        "*- Did the study answer your questions? *\n",
        "\n"
      ]
    },
    {
      "metadata": {
        "id": "coamWwBNig7G",
        "colab_type": "text"
      },
      "cell_type": "markdown",
      "source": [
        "## 6. References"
      ]
    },
    {
      "metadata": {
        "id": "ROjg1rddig7H",
        "colab_type": "text"
      },
      "cell_type": "markdown",
      "source": [
        "*List of all the references cited in the document*"
      ]
    },
    {
      "metadata": {
        "id": "Y1b9ewQDig7I",
        "colab_type": "text"
      },
      "cell_type": "markdown",
      "source": [
        "## Appendix\n",
        "*Any additional material needed to complete the report can be included here. For example, if you want to keep  additional source code, additional images or plots, mathematical derivations, etc. The content should be relevant to the report and should help explain or visualize something mentioned earlier. **You can remove the whole Appendix section if there is no need for it.** *"
      ]
    },
    {
      "metadata": {
        "id": "CRlq26-iig7L",
        "colab_type": "code",
        "colab": {}
      },
      "cell_type": "code",
      "source": [
        ""
      ],
      "execution_count": 0,
      "outputs": []
    }
  ]
}